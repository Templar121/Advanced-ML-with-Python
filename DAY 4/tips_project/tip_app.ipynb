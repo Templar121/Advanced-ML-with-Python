{
 "cells": [
  {
   "cell_type": "code",
   "execution_count": 1,
   "id": "e5735f9b-3fef-407b-bc0e-85021d628512",
   "metadata": {},
   "outputs": [],
   "source": [
    "from flask import Flask\n",
    "from flask import render_template\n",
    "import joblib\n",
    "from flask import request"
   ]
  },
  {
   "cell_type": "code",
   "execution_count": 3,
   "id": "f7c2ae33-f70e-4465-bec5-42d3fa3f9d65",
   "metadata": {},
   "outputs": [],
   "source": [
    "app = Flask(__name__)\n",
    "model = joblib.load('tip.pkl')\n",
    "\n",
    "@app.route('/')\n",
    "def hello(name = None):\n",
    "    return render_template('index.html', name = name)\n",
    "\n",
    "@app.route('/result', methods = ['GET', 'POST'])\n",
    "def get_value():\n",
    "    if request.method == 'POST':\n",
    "        tb = float(request.form.get('tb'))\n",
    "        sex = int(request.form.get('sex'))\n",
    "        smoker = int(request.form.get('smoker'))\n",
    "        day = int(request.form.get('day'))\n",
    "        time = int(request.form.get('time'))\n",
    "        size = int(request.form.get('size'))\n",
    "        predict = model.predict([[tb, sex, smoker, day, time, size]])\n",
    "    return render_template('results.html', prediction = [predict[0]])"
   ]
  },
  {
   "cell_type": "code",
   "execution_count": null,
   "id": "f0db10c2-b007-4a43-a7ac-57f9743a2e7d",
   "metadata": {},
   "outputs": [
    {
     "name": "stdout",
     "output_type": "stream",
     "text": [
      " * Serving Flask app '__main__'\n",
      " * Debug mode: off\n"
     ]
    },
    {
     "name": "stderr",
     "output_type": "stream",
     "text": [
      "WARNING: This is a development server. Do not use it in a production deployment. Use a production WSGI server instead.\n",
      " * Running on http://127.0.0.1:5000\n",
      "Press CTRL+C to quit\n",
      "127.0.0.1 - - [10/Sep/2024 11:47:28] \"GET / HTTP/1.1\" 200 -\n",
      "D:\\Anaconda\\Lib\\site-packages\\sklearn\\base.py:439: UserWarning: X does not have valid feature names, but LinearRegression was fitted with feature names\n",
      "  warnings.warn(\n",
      "127.0.0.1 - - [10/Sep/2024 11:47:42] \"POST /result HTTP/1.1\" 200 -\n"
     ]
    }
   ],
   "source": [
    "if __name__ == \"__main__\":\n",
    "    app.run()"
   ]
  },
  {
   "cell_type": "code",
   "execution_count": null,
   "id": "2d1fa1cf-3493-4d72-8cd9-0c18ccb31aa1",
   "metadata": {},
   "outputs": [],
   "source": []
  },
  {
   "cell_type": "code",
   "execution_count": null,
   "id": "7f05b108-0bef-495c-ad91-138f6e3b6dbd",
   "metadata": {},
   "outputs": [],
   "source": []
  },
  {
   "cell_type": "code",
   "execution_count": null,
   "id": "eeca94a8-3ff3-45c5-89cb-cdc0a06c8a6e",
   "metadata": {},
   "outputs": [],
   "source": []
  },
  {
   "cell_type": "code",
   "execution_count": null,
   "id": "27c50e3f-b930-4294-ae61-684ac643ea47",
   "metadata": {},
   "outputs": [],
   "source": []
  },
  {
   "cell_type": "code",
   "execution_count": null,
   "id": "e1749933-ef1d-4db4-b8dd-0b1777728967",
   "metadata": {},
   "outputs": [],
   "source": []
  },
  {
   "cell_type": "code",
   "execution_count": null,
   "id": "5caf1d72-2faa-48b1-9353-b7229e56e304",
   "metadata": {},
   "outputs": [],
   "source": []
  },
  {
   "cell_type": "code",
   "execution_count": null,
   "id": "c3182968-a953-464f-a8cb-1b6b54f8cffa",
   "metadata": {},
   "outputs": [],
   "source": []
  },
  {
   "cell_type": "code",
   "execution_count": null,
   "id": "054052ac-297f-4ae6-afe1-143fff58277a",
   "metadata": {},
   "outputs": [],
   "source": []
  },
  {
   "cell_type": "code",
   "execution_count": null,
   "id": "9596c07d-0268-4e76-97aa-f1d818f88c23",
   "metadata": {},
   "outputs": [],
   "source": []
  }
 ],
 "metadata": {
  "kernelspec": {
   "display_name": "Python 3 (ipykernel)",
   "language": "python",
   "name": "python3"
  },
  "language_info": {
   "codemirror_mode": {
    "name": "ipython",
    "version": 3
   },
   "file_extension": ".py",
   "mimetype": "text/x-python",
   "name": "python",
   "nbconvert_exporter": "python",
   "pygments_lexer": "ipython3",
   "version": "3.11.7"
  }
 },
 "nbformat": 4,
 "nbformat_minor": 5
}
