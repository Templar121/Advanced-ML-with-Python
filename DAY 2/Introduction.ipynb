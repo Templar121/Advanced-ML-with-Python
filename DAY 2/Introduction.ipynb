{
 "cells": [
  {
   "cell_type": "markdown",
   "id": "8b5b53d2-c949-423d-adf5-93470477eb8c",
   "metadata": {},
   "source": [
    "# <font color = \"red\"> Nine Lives\n",
    "In the nerve shredding game, you have to guess the secret word one letter at a time. If you guess is wrong , you lose a life, choose your letter careully because you only have nine lives and its game over.\n",
    "\n",
    "\n",
    "How it will work ... ?\n",
    "first you'll create two list one to store the secret words and one to store the clue, which is made up of question marks, then using random module , you'll make a selection from the list of secret words, next you'll build a loop to check whether the player guesses amd also create a function to update the clue as the word slowly revealed.\n"
   ]
  },
  {
   "cell_type": "code",
   "execution_count": 7,
   "id": "4d688aae-cce5-4751-8061-e563d6338a00",
   "metadata": {},
   "outputs": [
    {
     "name": "stdin",
     "output_type": "stream",
     "text": [
      "Guess a word pizza\n"
     ]
    },
    {
     "name": "stdout",
     "output_type": "stream",
     "text": [
      "Your guess is correct\n"
     ]
    },
    {
     "name": "stdin",
     "output_type": "stream",
     "text": [
      "Guess a word india\n"
     ]
    },
    {
     "name": "stdout",
     "output_type": "stream",
     "text": [
      "Your guess is correct\n"
     ]
    },
    {
     "name": "stdin",
     "output_type": "stream",
     "text": [
      "Guess a word world\n"
     ]
    },
    {
     "name": "stdout",
     "output_type": "stream",
     "text": [
      "Your guess is correct\n"
     ]
    },
    {
     "ename": "KeyboardInterrupt",
     "evalue": "Interrupted by user",
     "output_type": "error",
     "traceback": [
      "\u001b[1;31m---------------------------------------------------------------------------\u001b[0m",
      "\u001b[1;31mKeyboardInterrupt\u001b[0m                         Traceback (most recent call last)",
      "Cell \u001b[1;32mIn[7], line 9\u001b[0m\n\u001b[0;32m      7\u001b[0m lives \u001b[38;5;241m=\u001b[39m \u001b[38;5;241m9\u001b[39m\n\u001b[0;32m      8\u001b[0m \u001b[38;5;28;01mwhile\u001b[39;00m(lives \u001b[38;5;241m==\u001b[39m \u001b[38;5;241m9\u001b[39m):\n\u001b[1;32m----> 9\u001b[0m     g \u001b[38;5;241m=\u001b[39m \u001b[38;5;28minput\u001b[39m(\u001b[38;5;124m\"\u001b[39m\u001b[38;5;124mGuess a word\u001b[39m\u001b[38;5;124m\"\u001b[39m)\n\u001b[0;32m     10\u001b[0m     \u001b[38;5;28;01mif\u001b[39;00m(a \u001b[38;5;241m==\u001b[39m selection):\n\u001b[0;32m     11\u001b[0m        \u001b[38;5;28mprint\u001b[39m(\u001b[38;5;124m\"\u001b[39m\u001b[38;5;124mYour guess is correct\u001b[39m\u001b[38;5;124m\"\u001b[39m)\n",
      "File \u001b[1;32mD:\\Anaconda\\Lib\\site-packages\\ipykernel\\kernelbase.py:1262\u001b[0m, in \u001b[0;36mKernel.raw_input\u001b[1;34m(self, prompt)\u001b[0m\n\u001b[0;32m   1260\u001b[0m     msg \u001b[38;5;241m=\u001b[39m \u001b[38;5;124m\"\u001b[39m\u001b[38;5;124mraw_input was called, but this frontend does not support input requests.\u001b[39m\u001b[38;5;124m\"\u001b[39m\n\u001b[0;32m   1261\u001b[0m     \u001b[38;5;28;01mraise\u001b[39;00m StdinNotImplementedError(msg)\n\u001b[1;32m-> 1262\u001b[0m \u001b[38;5;28;01mreturn\u001b[39;00m \u001b[38;5;28mself\u001b[39m\u001b[38;5;241m.\u001b[39m_input_request(\n\u001b[0;32m   1263\u001b[0m     \u001b[38;5;28mstr\u001b[39m(prompt),\n\u001b[0;32m   1264\u001b[0m     \u001b[38;5;28mself\u001b[39m\u001b[38;5;241m.\u001b[39m_parent_ident[\u001b[38;5;124m\"\u001b[39m\u001b[38;5;124mshell\u001b[39m\u001b[38;5;124m\"\u001b[39m],\n\u001b[0;32m   1265\u001b[0m     \u001b[38;5;28mself\u001b[39m\u001b[38;5;241m.\u001b[39mget_parent(\u001b[38;5;124m\"\u001b[39m\u001b[38;5;124mshell\u001b[39m\u001b[38;5;124m\"\u001b[39m),\n\u001b[0;32m   1266\u001b[0m     password\u001b[38;5;241m=\u001b[39m\u001b[38;5;28;01mFalse\u001b[39;00m,\n\u001b[0;32m   1267\u001b[0m )\n",
      "File \u001b[1;32mD:\\Anaconda\\Lib\\site-packages\\ipykernel\\kernelbase.py:1305\u001b[0m, in \u001b[0;36mKernel._input_request\u001b[1;34m(self, prompt, ident, parent, password)\u001b[0m\n\u001b[0;32m   1302\u001b[0m \u001b[38;5;28;01mexcept\u001b[39;00m \u001b[38;5;167;01mKeyboardInterrupt\u001b[39;00m:\n\u001b[0;32m   1303\u001b[0m     \u001b[38;5;66;03m# re-raise KeyboardInterrupt, to truncate traceback\u001b[39;00m\n\u001b[0;32m   1304\u001b[0m     msg \u001b[38;5;241m=\u001b[39m \u001b[38;5;124m\"\u001b[39m\u001b[38;5;124mInterrupted by user\u001b[39m\u001b[38;5;124m\"\u001b[39m\n\u001b[1;32m-> 1305\u001b[0m     \u001b[38;5;28;01mraise\u001b[39;00m \u001b[38;5;167;01mKeyboardInterrupt\u001b[39;00m(msg) \u001b[38;5;28;01mfrom\u001b[39;00m \u001b[38;5;28;01mNone\u001b[39;00m\n\u001b[0;32m   1306\u001b[0m \u001b[38;5;28;01mexcept\u001b[39;00m \u001b[38;5;167;01mException\u001b[39;00m:\n\u001b[0;32m   1307\u001b[0m     \u001b[38;5;28mself\u001b[39m\u001b[38;5;241m.\u001b[39mlog\u001b[38;5;241m.\u001b[39mwarning(\u001b[38;5;124m\"\u001b[39m\u001b[38;5;124mInvalid Message:\u001b[39m\u001b[38;5;124m\"\u001b[39m, exc_info\u001b[38;5;241m=\u001b[39m\u001b[38;5;28;01mTrue\u001b[39;00m)\n",
      "\u001b[1;31mKeyboardInterrupt\u001b[0m: Interrupted by user"
     ]
    }
   ],
   "source": [
    "import random\n",
    "s = ['pizza', 'sleep', 'shirt', 'Insert', 'lives']\n",
    "g = ['?????']\n",
    "\n",
    "selection = random.choice(s)\n",
    "\n",
    "lives = 9\n",
    "while(lives == 9):\n",
    "    g = input(\"Guess a word\")\n",
    "    if(a == selection):\n",
    "       print(\"Your guess is correct\")\n",
    "    else:\n",
    "        print(\"Your guess is wrong, lives = lives - 1\")\n",
    "        lives = lives - 1\n",
    "        \n",
    "    "
   ]
  },
  {
   "cell_type": "code",
   "execution_count": 20,
   "id": "82593301-5069-4790-b301-4577c9844693",
   "metadata": {},
   "outputs": [],
   "source": [
    "# solution\n",
    "\n",
    "import random\n",
    "lives = 9\n",
    "words = ['pizza', 'fairy', 'sleep', 'teeth', 'plane', 'otter']\n",
    "\n",
    "secret_word = random.choice(words)\n"
   ]
  },
  {
   "cell_type": "markdown",
   "id": "ec2a79ea-75e4-47c1-a065-d4601d47bc54",
   "metadata": {},
   "source": [
    "###  now make a list of clue\n",
    " "
   ]
  },
  {
   "cell_type": "code",
   "execution_count": 21,
   "id": "f09e298a-637b-4e98-9a6c-bc2c7ec9478c",
   "metadata": {},
   "outputs": [],
   "source": [
    "clue = list('?????')\n",
    "heart_symbol = u'\\u2764'\n",
    "guessed_word_correctly = False\n",
    "\n"
   ]
  },
  {
   "cell_type": "code",
   "execution_count": 22,
   "id": "75f1309e-0637-4bd3-8606-4437352b7dc2",
   "metadata": {},
   "outputs": [],
   "source": [
    "def update_clue(guessed_letter, secret_word, clue):\n",
    "    index = 0\n",
    "    while index < len(secret_word):\n",
    "        if guessed_letter == secret_word[index]:\n",
    "            clue[index] = guessed_letter\n",
    "        index = index + 1\n",
    "        \n",
    "        \n"
   ]
  },
  {
   "cell_type": "code",
   "execution_count": 24,
   "id": "550467df-e51b-4a73-85d0-0817f94318c6",
   "metadata": {},
   "outputs": [
    {
     "name": "stdout",
     "output_type": "stream",
     "text": [
      "['t', '?', '?', 't', '?']\n",
      "Lives left ❤❤❤❤❤❤❤\n"
     ]
    },
    {
     "name": "stdin",
     "output_type": "stream",
     "text": [
      "Enter a letter or the whole word otter\n"
     ]
    },
    {
     "name": "stdout",
     "output_type": "stream",
     "text": [
      "Incorrect you loss a life\n",
      "['t', '?', '?', 't', '?']\n",
      "Lives left ❤❤❤❤❤❤\n"
     ]
    },
    {
     "name": "stdin",
     "output_type": "stream",
     "text": [
      "Enter a letter or the whole word sleep\n"
     ]
    },
    {
     "name": "stdout",
     "output_type": "stream",
     "text": [
      "Incorrect you loss a life\n",
      "['t', '?', '?', 't', '?']\n",
      "Lives left ❤❤❤❤❤\n"
     ]
    },
    {
     "name": "stdin",
     "output_type": "stream",
     "text": [
      "Enter a letter or the whole word india\n"
     ]
    },
    {
     "name": "stdout",
     "output_type": "stream",
     "text": [
      "Incorrect you loss a life\n",
      "['t', '?', '?', 't', '?']\n",
      "Lives left ❤❤❤❤\n"
     ]
    },
    {
     "name": "stdin",
     "output_type": "stream",
     "text": [
      "Enter a letter or the whole word hello\n"
     ]
    },
    {
     "name": "stdout",
     "output_type": "stream",
     "text": [
      "Incorrect you loss a life\n",
      "['t', '?', '?', 't', '?']\n",
      "Lives left ❤❤❤\n"
     ]
    },
    {
     "name": "stdin",
     "output_type": "stream",
     "text": [
      "Enter a letter or the whole word hi\n"
     ]
    },
    {
     "name": "stdout",
     "output_type": "stream",
     "text": [
      "Incorrect you loss a life\n",
      "['t', '?', '?', 't', '?']\n",
      "Lives left ❤❤\n"
     ]
    },
    {
     "name": "stdin",
     "output_type": "stream",
     "text": [
      "Enter a letter or the whole word you\n"
     ]
    },
    {
     "name": "stdout",
     "output_type": "stream",
     "text": [
      "Incorrect you loss a life\n",
      "['t', '?', '?', 't', '?']\n",
      "Lives left ❤\n"
     ]
    },
    {
     "name": "stdin",
     "output_type": "stream",
     "text": [
      "Enter a letter or the whole word nice\n"
     ]
    },
    {
     "name": "stdout",
     "output_type": "stream",
     "text": [
      "Incorrect you loss a life\n",
      "You lost , the secret word was teeth\n"
     ]
    }
   ],
   "source": [
    "\n",
    "while lives > 0:\n",
    "    print(clue)\n",
    "    print(\"Lives left \" + heart_symbol * lives)\n",
    "    guess = input(\"Enter a letter or the whole word\")\n",
    "\n",
    "    if guess == secret_word:\n",
    "        guessed_word_correctly = True\n",
    "        break\n",
    "    elif guess in secret_word:\n",
    "        update_clue(guess, secret_word, clue)\n",
    "\n",
    "    else:\n",
    "        print(\"Incorrect you loss a life\")\n",
    "        lives = lives - 1\n",
    "\n",
    "if guessed_word_correctly:\n",
    "    print(\"You won... !, the secret word was \" + secret_word)\n",
    "else:\n",
    "    print(\"You lost , the secret word was \" + secret_word)\n",
    "\n"
   ]
  },
  {
   "cell_type": "code",
   "execution_count": null,
   "id": "463d4662-2e8c-47ca-bbd6-7c5fdfe57057",
   "metadata": {},
   "outputs": [],
   "source": []
  },
  {
   "cell_type": "code",
   "execution_count": null,
   "id": "75fce91e-c16e-4b81-a075-7762af60dd83",
   "metadata": {},
   "outputs": [],
   "source": []
  },
  {
   "cell_type": "code",
   "execution_count": null,
   "id": "2d8e1165-a4ea-460a-9fb1-6f8acee8dadd",
   "metadata": {},
   "outputs": [],
   "source": []
  }
 ],
 "metadata": {
  "kernelspec": {
   "display_name": "Python 3 (ipykernel)",
   "language": "python",
   "name": "python3"
  },
  "language_info": {
   "codemirror_mode": {
    "name": "ipython",
    "version": 3
   },
   "file_extension": ".py",
   "mimetype": "text/x-python",
   "name": "python",
   "nbconvert_exporter": "python",
   "pygments_lexer": "ipython3",
   "version": "3.11.7"
  }
 },
 "nbformat": 4,
 "nbformat_minor": 5
}
