{
 "cells": [
  {
   "cell_type": "code",
   "execution_count": 1,
   "id": "b1db9ec7-0071-4c55-a41a-13f17855e314",
   "metadata": {},
   "outputs": [],
   "source": [
    "import seaborn as sns\n",
    "import matplotlib.pyplot as plt\n",
    "import numpy as np\n",
    "import pandas as pd"
   ]
  },
  {
   "cell_type": "code",
   "execution_count": 2,
   "id": "c2fa324c-6fb3-4d16-851c-ce3adfa439fe",
   "metadata": {},
   "outputs": [],
   "source": [
    "cp = pd.read_csv('cp.csv')"
   ]
  },
  {
   "cell_type": "code",
   "execution_count": 3,
   "id": "5b6bf7f6-7fc0-4915-9b1b-cbbebfc11f94",
   "metadata": {},
   "outputs": [
    {
     "data": {
      "text/html": [
       "<div>\n",
       "<style scoped>\n",
       "    .dataframe tbody tr th:only-of-type {\n",
       "        vertical-align: middle;\n",
       "    }\n",
       "\n",
       "    .dataframe tbody tr th {\n",
       "        vertical-align: top;\n",
       "    }\n",
       "\n",
       "    .dataframe thead th {\n",
       "        text-align: right;\n",
       "    }\n",
       "</style>\n",
       "<table border=\"1\" class=\"dataframe\">\n",
       "  <thead>\n",
       "    <tr style=\"text-align: right;\">\n",
       "      <th></th>\n",
       "      <th>N</th>\n",
       "      <th>P</th>\n",
       "      <th>K</th>\n",
       "      <th>temperature</th>\n",
       "      <th>humidity</th>\n",
       "      <th>ph</th>\n",
       "      <th>rainfall</th>\n",
       "      <th>label</th>\n",
       "    </tr>\n",
       "  </thead>\n",
       "  <tbody>\n",
       "    <tr>\n",
       "      <th>0</th>\n",
       "      <td>90</td>\n",
       "      <td>42</td>\n",
       "      <td>43</td>\n",
       "      <td>20.879744</td>\n",
       "      <td>82.002744</td>\n",
       "      <td>6.502985</td>\n",
       "      <td>202.935536</td>\n",
       "      <td>rice</td>\n",
       "    </tr>\n",
       "    <tr>\n",
       "      <th>1</th>\n",
       "      <td>85</td>\n",
       "      <td>58</td>\n",
       "      <td>41</td>\n",
       "      <td>21.770462</td>\n",
       "      <td>80.319644</td>\n",
       "      <td>7.038096</td>\n",
       "      <td>226.655537</td>\n",
       "      <td>rice</td>\n",
       "    </tr>\n",
       "    <tr>\n",
       "      <th>2</th>\n",
       "      <td>60</td>\n",
       "      <td>55</td>\n",
       "      <td>44</td>\n",
       "      <td>23.004459</td>\n",
       "      <td>82.320763</td>\n",
       "      <td>7.840207</td>\n",
       "      <td>263.964248</td>\n",
       "      <td>rice</td>\n",
       "    </tr>\n",
       "    <tr>\n",
       "      <th>3</th>\n",
       "      <td>74</td>\n",
       "      <td>35</td>\n",
       "      <td>40</td>\n",
       "      <td>26.491096</td>\n",
       "      <td>80.158363</td>\n",
       "      <td>6.980401</td>\n",
       "      <td>242.864034</td>\n",
       "      <td>rice</td>\n",
       "    </tr>\n",
       "    <tr>\n",
       "      <th>4</th>\n",
       "      <td>78</td>\n",
       "      <td>42</td>\n",
       "      <td>42</td>\n",
       "      <td>20.130175</td>\n",
       "      <td>81.604873</td>\n",
       "      <td>7.628473</td>\n",
       "      <td>262.717340</td>\n",
       "      <td>rice</td>\n",
       "    </tr>\n",
       "  </tbody>\n",
       "</table>\n",
       "</div>"
      ],
      "text/plain": [
       "    N   P   K  temperature   humidity        ph    rainfall label\n",
       "0  90  42  43    20.879744  82.002744  6.502985  202.935536  rice\n",
       "1  85  58  41    21.770462  80.319644  7.038096  226.655537  rice\n",
       "2  60  55  44    23.004459  82.320763  7.840207  263.964248  rice\n",
       "3  74  35  40    26.491096  80.158363  6.980401  242.864034  rice\n",
       "4  78  42  42    20.130175  81.604873  7.628473  262.717340  rice"
      ]
     },
     "execution_count": 3,
     "metadata": {},
     "output_type": "execute_result"
    }
   ],
   "source": [
    "cp.head()"
   ]
  },
  {
   "cell_type": "markdown",
   "id": "d1255a01-8a43-4cd1-bf83-bc3b9c4a212a",
   "metadata": {},
   "source": [
    "## The columns names  \n",
    "1. N - Nitrogen\n",
    "2. P - Phosphorus\n",
    "3. k - Potassium\n",
    "4. temperature\n",
    "5. humidity\n",
    "6. ph\n",
    "7. rainfall\n",
    "8. label\n",
    "   "
   ]
  },
  {
   "cell_type": "code",
   "execution_count": 4,
   "id": "f133929e-933e-4af0-9735-b9f8d7b3c3db",
   "metadata": {},
   "outputs": [
    {
     "name": "stdout",
     "output_type": "stream",
     "text": [
      "<class 'pandas.core.frame.DataFrame'>\n",
      "RangeIndex: 2200 entries, 0 to 2199\n",
      "Data columns (total 8 columns):\n",
      " #   Column       Non-Null Count  Dtype  \n",
      "---  ------       --------------  -----  \n",
      " 0   N            2200 non-null   int64  \n",
      " 1   P            2200 non-null   int64  \n",
      " 2   K            2200 non-null   int64  \n",
      " 3   temperature  2200 non-null   float64\n",
      " 4   humidity     2200 non-null   float64\n",
      " 5   ph           2200 non-null   float64\n",
      " 6   rainfall     2200 non-null   float64\n",
      " 7   label        2200 non-null   object \n",
      "dtypes: float64(4), int64(3), object(1)\n",
      "memory usage: 137.6+ KB\n"
     ]
    }
   ],
   "source": [
    "# Checking the Information of the dataset\n",
    "cp.info()"
   ]
  },
  {
   "cell_type": "code",
   "execution_count": 5,
   "id": "9cd9dcfe-ded1-4b33-9149-df9eb9772c95",
   "metadata": {},
   "outputs": [
    {
     "data": {
      "text/plain": [
       "N              0\n",
       "P              0\n",
       "K              0\n",
       "temperature    0\n",
       "humidity       0\n",
       "ph             0\n",
       "rainfall       0\n",
       "label          0\n",
       "dtype: int64"
      ]
     },
     "execution_count": 5,
     "metadata": {},
     "output_type": "execute_result"
    }
   ],
   "source": [
    "# Checking of the null values\n",
    "cp.isnull().sum()"
   ]
  },
  {
   "cell_type": "code",
   "execution_count": 6,
   "id": "35a6123f-2552-4922-957f-746a790d6ab0",
   "metadata": {},
   "outputs": [
    {
     "data": {
      "text/plain": [
       "Index(['N', 'P', 'K', 'temperature', 'humidity', 'ph', 'rainfall', 'label'], dtype='object')"
      ]
     },
     "execution_count": 6,
     "metadata": {},
     "output_type": "execute_result"
    }
   ],
   "source": [
    "cp.columns"
   ]
  },
  {
   "cell_type": "code",
   "execution_count": 8,
   "id": "55d521cf-a60a-47e7-886d-44148031168e",
   "metadata": {},
   "outputs": [],
   "source": [
    "X = cp[['N', 'P', 'K', 'temperature', 'humidity', 'ph', 'rainfall']]\n",
    "y = cp['label']"
   ]
  },
  {
   "cell_type": "code",
   "execution_count": 11,
   "id": "e432491f-e498-42a2-851f-9fdcdb1c7e5c",
   "metadata": {},
   "outputs": [
    {
     "data": {
      "text/html": [
       "<div>\n",
       "<style scoped>\n",
       "    .dataframe tbody tr th:only-of-type {\n",
       "        vertical-align: middle;\n",
       "    }\n",
       "\n",
       "    .dataframe tbody tr th {\n",
       "        vertical-align: top;\n",
       "    }\n",
       "\n",
       "    .dataframe thead th {\n",
       "        text-align: right;\n",
       "    }\n",
       "</style>\n",
       "<table border=\"1\" class=\"dataframe\">\n",
       "  <thead>\n",
       "    <tr style=\"text-align: right;\">\n",
       "      <th></th>\n",
       "      <th>K</th>\n",
       "      <th>N</th>\n",
       "      <th>P</th>\n",
       "      <th>humidity</th>\n",
       "      <th>ph</th>\n",
       "      <th>rainfall</th>\n",
       "      <th>temperature</th>\n",
       "    </tr>\n",
       "    <tr>\n",
       "      <th>label</th>\n",
       "      <th></th>\n",
       "      <th></th>\n",
       "      <th></th>\n",
       "      <th></th>\n",
       "      <th></th>\n",
       "      <th></th>\n",
       "      <th></th>\n",
       "    </tr>\n",
       "  </thead>\n",
       "  <tbody>\n",
       "    <tr>\n",
       "      <th>apple</th>\n",
       "      <td>199.89</td>\n",
       "      <td>20.80</td>\n",
       "      <td>134.22</td>\n",
       "      <td>92.333383</td>\n",
       "      <td>5.929663</td>\n",
       "      <td>112.654779</td>\n",
       "      <td>22.630942</td>\n",
       "    </tr>\n",
       "    <tr>\n",
       "      <th>banana</th>\n",
       "      <td>50.05</td>\n",
       "      <td>100.23</td>\n",
       "      <td>82.01</td>\n",
       "      <td>80.358123</td>\n",
       "      <td>5.983893</td>\n",
       "      <td>104.626980</td>\n",
       "      <td>27.376798</td>\n",
       "    </tr>\n",
       "    <tr>\n",
       "      <th>blackgram</th>\n",
       "      <td>19.24</td>\n",
       "      <td>40.02</td>\n",
       "      <td>67.47</td>\n",
       "      <td>65.118426</td>\n",
       "      <td>7.133952</td>\n",
       "      <td>67.884151</td>\n",
       "      <td>29.973340</td>\n",
       "    </tr>\n",
       "    <tr>\n",
       "      <th>chickpea</th>\n",
       "      <td>79.92</td>\n",
       "      <td>40.09</td>\n",
       "      <td>67.79</td>\n",
       "      <td>16.860439</td>\n",
       "      <td>7.336957</td>\n",
       "      <td>80.058977</td>\n",
       "      <td>18.872847</td>\n",
       "    </tr>\n",
       "    <tr>\n",
       "      <th>coconut</th>\n",
       "      <td>30.59</td>\n",
       "      <td>21.98</td>\n",
       "      <td>16.93</td>\n",
       "      <td>94.844272</td>\n",
       "      <td>5.976562</td>\n",
       "      <td>175.686646</td>\n",
       "      <td>27.409892</td>\n",
       "    </tr>\n",
       "    <tr>\n",
       "      <th>coffee</th>\n",
       "      <td>29.94</td>\n",
       "      <td>101.20</td>\n",
       "      <td>28.74</td>\n",
       "      <td>58.869846</td>\n",
       "      <td>6.790308</td>\n",
       "      <td>158.066295</td>\n",
       "      <td>25.540477</td>\n",
       "    </tr>\n",
       "    <tr>\n",
       "      <th>cotton</th>\n",
       "      <td>19.56</td>\n",
       "      <td>117.77</td>\n",
       "      <td>46.24</td>\n",
       "      <td>79.843474</td>\n",
       "      <td>6.912675</td>\n",
       "      <td>80.398043</td>\n",
       "      <td>23.988958</td>\n",
       "    </tr>\n",
       "    <tr>\n",
       "      <th>grapes</th>\n",
       "      <td>200.11</td>\n",
       "      <td>23.18</td>\n",
       "      <td>132.53</td>\n",
       "      <td>81.875228</td>\n",
       "      <td>6.025937</td>\n",
       "      <td>69.611829</td>\n",
       "      <td>23.849575</td>\n",
       "    </tr>\n",
       "    <tr>\n",
       "      <th>jute</th>\n",
       "      <td>39.99</td>\n",
       "      <td>78.40</td>\n",
       "      <td>46.86</td>\n",
       "      <td>79.639864</td>\n",
       "      <td>6.732778</td>\n",
       "      <td>174.792798</td>\n",
       "      <td>24.958376</td>\n",
       "    </tr>\n",
       "    <tr>\n",
       "      <th>kidneybeans</th>\n",
       "      <td>20.05</td>\n",
       "      <td>20.75</td>\n",
       "      <td>67.54</td>\n",
       "      <td>21.605357</td>\n",
       "      <td>5.749411</td>\n",
       "      <td>105.919778</td>\n",
       "      <td>20.115085</td>\n",
       "    </tr>\n",
       "    <tr>\n",
       "      <th>lentil</th>\n",
       "      <td>19.41</td>\n",
       "      <td>18.77</td>\n",
       "      <td>68.36</td>\n",
       "      <td>64.804785</td>\n",
       "      <td>6.927932</td>\n",
       "      <td>45.680454</td>\n",
       "      <td>24.509052</td>\n",
       "    </tr>\n",
       "    <tr>\n",
       "      <th>maize</th>\n",
       "      <td>19.79</td>\n",
       "      <td>77.76</td>\n",
       "      <td>48.44</td>\n",
       "      <td>65.092249</td>\n",
       "      <td>6.245190</td>\n",
       "      <td>84.766988</td>\n",
       "      <td>22.389204</td>\n",
       "    </tr>\n",
       "    <tr>\n",
       "      <th>mango</th>\n",
       "      <td>29.92</td>\n",
       "      <td>20.07</td>\n",
       "      <td>27.18</td>\n",
       "      <td>50.156573</td>\n",
       "      <td>5.766373</td>\n",
       "      <td>94.704515</td>\n",
       "      <td>31.208770</td>\n",
       "    </tr>\n",
       "    <tr>\n",
       "      <th>mothbeans</th>\n",
       "      <td>20.23</td>\n",
       "      <td>21.44</td>\n",
       "      <td>48.01</td>\n",
       "      <td>53.160418</td>\n",
       "      <td>6.831174</td>\n",
       "      <td>51.198487</td>\n",
       "      <td>28.194920</td>\n",
       "    </tr>\n",
       "    <tr>\n",
       "      <th>mungbean</th>\n",
       "      <td>19.87</td>\n",
       "      <td>20.99</td>\n",
       "      <td>47.28</td>\n",
       "      <td>85.499975</td>\n",
       "      <td>6.723957</td>\n",
       "      <td>48.403601</td>\n",
       "      <td>28.525775</td>\n",
       "    </tr>\n",
       "    <tr>\n",
       "      <th>muskmelon</th>\n",
       "      <td>50.08</td>\n",
       "      <td>100.32</td>\n",
       "      <td>17.72</td>\n",
       "      <td>92.342802</td>\n",
       "      <td>6.358805</td>\n",
       "      <td>24.689952</td>\n",
       "      <td>28.663066</td>\n",
       "    </tr>\n",
       "    <tr>\n",
       "      <th>orange</th>\n",
       "      <td>10.01</td>\n",
       "      <td>19.58</td>\n",
       "      <td>16.55</td>\n",
       "      <td>92.170209</td>\n",
       "      <td>7.016957</td>\n",
       "      <td>110.474969</td>\n",
       "      <td>22.765725</td>\n",
       "    </tr>\n",
       "    <tr>\n",
       "      <th>papaya</th>\n",
       "      <td>50.04</td>\n",
       "      <td>49.88</td>\n",
       "      <td>59.05</td>\n",
       "      <td>92.403388</td>\n",
       "      <td>6.741442</td>\n",
       "      <td>142.627839</td>\n",
       "      <td>33.723859</td>\n",
       "    </tr>\n",
       "    <tr>\n",
       "      <th>pigeonpeas</th>\n",
       "      <td>20.29</td>\n",
       "      <td>20.73</td>\n",
       "      <td>67.73</td>\n",
       "      <td>48.061633</td>\n",
       "      <td>5.794175</td>\n",
       "      <td>149.457564</td>\n",
       "      <td>27.741762</td>\n",
       "    </tr>\n",
       "    <tr>\n",
       "      <th>pomegranate</th>\n",
       "      <td>40.21</td>\n",
       "      <td>18.87</td>\n",
       "      <td>18.75</td>\n",
       "      <td>90.125504</td>\n",
       "      <td>6.429172</td>\n",
       "      <td>107.528442</td>\n",
       "      <td>21.837842</td>\n",
       "    </tr>\n",
       "    <tr>\n",
       "      <th>rice</th>\n",
       "      <td>39.87</td>\n",
       "      <td>79.89</td>\n",
       "      <td>47.58</td>\n",
       "      <td>82.272822</td>\n",
       "      <td>6.425471</td>\n",
       "      <td>236.181114</td>\n",
       "      <td>23.689332</td>\n",
       "    </tr>\n",
       "    <tr>\n",
       "      <th>watermelon</th>\n",
       "      <td>50.22</td>\n",
       "      <td>99.42</td>\n",
       "      <td>17.00</td>\n",
       "      <td>85.160375</td>\n",
       "      <td>6.495778</td>\n",
       "      <td>50.786219</td>\n",
       "      <td>25.591767</td>\n",
       "    </tr>\n",
       "  </tbody>\n",
       "</table>\n",
       "</div>"
      ],
      "text/plain": [
       "                  K       N       P   humidity        ph    rainfall  \\\n",
       "label                                                                  \n",
       "apple        199.89   20.80  134.22  92.333383  5.929663  112.654779   \n",
       "banana        50.05  100.23   82.01  80.358123  5.983893  104.626980   \n",
       "blackgram     19.24   40.02   67.47  65.118426  7.133952   67.884151   \n",
       "chickpea      79.92   40.09   67.79  16.860439  7.336957   80.058977   \n",
       "coconut       30.59   21.98   16.93  94.844272  5.976562  175.686646   \n",
       "coffee        29.94  101.20   28.74  58.869846  6.790308  158.066295   \n",
       "cotton        19.56  117.77   46.24  79.843474  6.912675   80.398043   \n",
       "grapes       200.11   23.18  132.53  81.875228  6.025937   69.611829   \n",
       "jute          39.99   78.40   46.86  79.639864  6.732778  174.792798   \n",
       "kidneybeans   20.05   20.75   67.54  21.605357  5.749411  105.919778   \n",
       "lentil        19.41   18.77   68.36  64.804785  6.927932   45.680454   \n",
       "maize         19.79   77.76   48.44  65.092249  6.245190   84.766988   \n",
       "mango         29.92   20.07   27.18  50.156573  5.766373   94.704515   \n",
       "mothbeans     20.23   21.44   48.01  53.160418  6.831174   51.198487   \n",
       "mungbean      19.87   20.99   47.28  85.499975  6.723957   48.403601   \n",
       "muskmelon     50.08  100.32   17.72  92.342802  6.358805   24.689952   \n",
       "orange        10.01   19.58   16.55  92.170209  7.016957  110.474969   \n",
       "papaya        50.04   49.88   59.05  92.403388  6.741442  142.627839   \n",
       "pigeonpeas    20.29   20.73   67.73  48.061633  5.794175  149.457564   \n",
       "pomegranate   40.21   18.87   18.75  90.125504  6.429172  107.528442   \n",
       "rice          39.87   79.89   47.58  82.272822  6.425471  236.181114   \n",
       "watermelon    50.22   99.42   17.00  85.160375  6.495778   50.786219   \n",
       "\n",
       "             temperature  \n",
       "label                     \n",
       "apple          22.630942  \n",
       "banana         27.376798  \n",
       "blackgram      29.973340  \n",
       "chickpea       18.872847  \n",
       "coconut        27.409892  \n",
       "coffee         25.540477  \n",
       "cotton         23.988958  \n",
       "grapes         23.849575  \n",
       "jute           24.958376  \n",
       "kidneybeans    20.115085  \n",
       "lentil         24.509052  \n",
       "maize          22.389204  \n",
       "mango          31.208770  \n",
       "mothbeans      28.194920  \n",
       "mungbean       28.525775  \n",
       "muskmelon      28.663066  \n",
       "orange         22.765725  \n",
       "papaya         33.723859  \n",
       "pigeonpeas     27.741762  \n",
       "pomegranate    21.837842  \n",
       "rice           23.689332  \n",
       "watermelon     25.591767  "
      ]
     },
     "execution_count": 11,
     "metadata": {},
     "output_type": "execute_result"
    }
   ],
   "source": [
    "pd.pivot_table(cp, index = 'label', values = ['N', 'P', 'K', 'temperature', 'humidity', 'ph', 'rainfall'])"
   ]
  },
  {
   "cell_type": "code",
   "execution_count": null,
   "id": "d33ea546-4ffa-4cfe-92b2-7a4d974137a1",
   "metadata": {},
   "outputs": [],
   "source": [
    "from sklearn.linear_model import LogisticRegression\n",
    "from sklearn.model_selection import train_test_split\n",
    "from sklearn.metrics import confusion_matrix, classification_report"
   ]
  },
  {
   "cell_type": "code",
   "execution_count": 13,
   "id": "1be35b44-3aa0-41e5-936d-48e1feed6eb3",
   "metadata": {},
   "outputs": [],
   "source": [
    "X_train, X_test, Y_train, Y_test = train_test_split(X, y, test_size = 0.2, random_state = 42)"
   ]
  },
  {
   "cell_type": "code",
   "execution_count": 14,
   "id": "4c0852d1-6675-473c-9eb3-b9d214836489",
   "metadata": {},
   "outputs": [
    {
     "data": {
      "text/plain": [
       "((1760, 7), (440, 7), (1760,), (440,))"
      ]
     },
     "execution_count": 14,
     "metadata": {},
     "output_type": "execute_result"
    }
   ],
   "source": [
    "X_train.shape, X_test.shape, Y_train.shape, Y_test.shape "
   ]
  },
  {
   "cell_type": "code",
   "execution_count": 15,
   "id": "3f81a524-9e15-4eb5-a69b-946829f39cdb",
   "metadata": {},
   "outputs": [],
   "source": [
    "log_reg = LogisticRegression()"
   ]
  },
  {
   "cell_type": "code",
   "execution_count": 17,
   "id": "e65012a6-4eb4-453f-89ee-65e298faeb68",
   "metadata": {},
   "outputs": [
    {
     "data": {
      "text/html": [
       "<style>#sk-container-id-2 {color: black;background-color: white;}#sk-container-id-2 pre{padding: 0;}#sk-container-id-2 div.sk-toggleable {background-color: white;}#sk-container-id-2 label.sk-toggleable__label {cursor: pointer;display: block;width: 100%;margin-bottom: 0;padding: 0.3em;box-sizing: border-box;text-align: center;}#sk-container-id-2 label.sk-toggleable__label-arrow:before {content: \"▸\";float: left;margin-right: 0.25em;color: #696969;}#sk-container-id-2 label.sk-toggleable__label-arrow:hover:before {color: black;}#sk-container-id-2 div.sk-estimator:hover label.sk-toggleable__label-arrow:before {color: black;}#sk-container-id-2 div.sk-toggleable__content {max-height: 0;max-width: 0;overflow: hidden;text-align: left;background-color: #f0f8ff;}#sk-container-id-2 div.sk-toggleable__content pre {margin: 0.2em;color: black;border-radius: 0.25em;background-color: #f0f8ff;}#sk-container-id-2 input.sk-toggleable__control:checked~div.sk-toggleable__content {max-height: 200px;max-width: 100%;overflow: auto;}#sk-container-id-2 input.sk-toggleable__control:checked~label.sk-toggleable__label-arrow:before {content: \"▾\";}#sk-container-id-2 div.sk-estimator input.sk-toggleable__control:checked~label.sk-toggleable__label {background-color: #d4ebff;}#sk-container-id-2 div.sk-label input.sk-toggleable__control:checked~label.sk-toggleable__label {background-color: #d4ebff;}#sk-container-id-2 input.sk-hidden--visually {border: 0;clip: rect(1px 1px 1px 1px);clip: rect(1px, 1px, 1px, 1px);height: 1px;margin: -1px;overflow: hidden;padding: 0;position: absolute;width: 1px;}#sk-container-id-2 div.sk-estimator {font-family: monospace;background-color: #f0f8ff;border: 1px dotted black;border-radius: 0.25em;box-sizing: border-box;margin-bottom: 0.5em;}#sk-container-id-2 div.sk-estimator:hover {background-color: #d4ebff;}#sk-container-id-2 div.sk-parallel-item::after {content: \"\";width: 100%;border-bottom: 1px solid gray;flex-grow: 1;}#sk-container-id-2 div.sk-label:hover label.sk-toggleable__label {background-color: #d4ebff;}#sk-container-id-2 div.sk-serial::before {content: \"\";position: absolute;border-left: 1px solid gray;box-sizing: border-box;top: 0;bottom: 0;left: 50%;z-index: 0;}#sk-container-id-2 div.sk-serial {display: flex;flex-direction: column;align-items: center;background-color: white;padding-right: 0.2em;padding-left: 0.2em;position: relative;}#sk-container-id-2 div.sk-item {position: relative;z-index: 1;}#sk-container-id-2 div.sk-parallel {display: flex;align-items: stretch;justify-content: center;background-color: white;position: relative;}#sk-container-id-2 div.sk-item::before, #sk-container-id-2 div.sk-parallel-item::before {content: \"\";position: absolute;border-left: 1px solid gray;box-sizing: border-box;top: 0;bottom: 0;left: 50%;z-index: -1;}#sk-container-id-2 div.sk-parallel-item {display: flex;flex-direction: column;z-index: 1;position: relative;background-color: white;}#sk-container-id-2 div.sk-parallel-item:first-child::after {align-self: flex-end;width: 50%;}#sk-container-id-2 div.sk-parallel-item:last-child::after {align-self: flex-start;width: 50%;}#sk-container-id-2 div.sk-parallel-item:only-child::after {width: 0;}#sk-container-id-2 div.sk-dashed-wrapped {border: 1px dashed gray;margin: 0 0.4em 0.5em 0.4em;box-sizing: border-box;padding-bottom: 0.4em;background-color: white;}#sk-container-id-2 div.sk-label label {font-family: monospace;font-weight: bold;display: inline-block;line-height: 1.2em;}#sk-container-id-2 div.sk-label-container {text-align: center;}#sk-container-id-2 div.sk-container {/* jupyter's `normalize.less` sets `[hidden] { display: none; }` but bootstrap.min.css set `[hidden] { display: none !important; }` so we also need the `!important` here to be able to override the default hidden behavior on the sphinx rendered scikit-learn.org. See: https://github.com/scikit-learn/scikit-learn/issues/21755 */display: inline-block !important;position: relative;}#sk-container-id-2 div.sk-text-repr-fallback {display: none;}</style><div id=\"sk-container-id-2\" class=\"sk-top-container\"><div class=\"sk-text-repr-fallback\"><pre>LogisticRegression()</pre><b>In a Jupyter environment, please rerun this cell to show the HTML representation or trust the notebook. <br />On GitHub, the HTML representation is unable to render, please try loading this page with nbviewer.org.</b></div><div class=\"sk-container\" hidden><div class=\"sk-item\"><div class=\"sk-estimator sk-toggleable\"><input class=\"sk-toggleable__control sk-hidden--visually\" id=\"sk-estimator-id-2\" type=\"checkbox\" checked><label for=\"sk-estimator-id-2\" class=\"sk-toggleable__label sk-toggleable__label-arrow\">LogisticRegression</label><div class=\"sk-toggleable__content\"><pre>LogisticRegression()</pre></div></div></div></div></div>"
      ],
      "text/plain": [
       "LogisticRegression()"
      ]
     },
     "execution_count": 17,
     "metadata": {},
     "output_type": "execute_result"
    }
   ],
   "source": [
    "import warnings\n",
    "warnings.filterwarnings('ignore')\n",
    "log_reg.fit(X_train, Y_train)"
   ]
  },
  {
   "cell_type": "code",
   "execution_count": 19,
   "id": "85950d54-9098-4eaf-be71-b9f9b8df4a1e",
   "metadata": {},
   "outputs": [],
   "source": [
    "from sklearn.metrics import accuracy_score"
   ]
  },
  {
   "cell_type": "code",
   "execution_count": 21,
   "id": "121bda80-04ab-48fe-8de4-9af5dbf6f78e",
   "metadata": {},
   "outputs": [],
   "source": [
    "y_pred = log_reg.predict(X_test)"
   ]
  },
  {
   "cell_type": "code",
   "execution_count": 22,
   "id": "8d2d5723-6b77-49b5-be99-8de88ce040d2",
   "metadata": {},
   "outputs": [
    {
     "name": "stdout",
     "output_type": "stream",
     "text": [
      "94.54545454545455\n"
     ]
    }
   ],
   "source": [
    "print(accuracy_score(Y_test, y_pred) * 100)"
   ]
  },
  {
   "cell_type": "code",
   "execution_count": 25,
   "id": "1241ea45-296c-4274-99fe-f5e4df929ac6",
   "metadata": {},
   "outputs": [
    {
     "data": {
      "text/plain": [
       "array(['cotton'], dtype=object)"
      ]
     },
     "execution_count": 25,
     "metadata": {},
     "output_type": "execute_result"
    }
   ],
   "source": [
    "log_reg.predict([[99,\t36,\t20,\t20.579819,\t65.345839,\t6.671086,\t78.346045]])"
   ]
  },
  {
   "cell_type": "code",
   "execution_count": 27,
   "id": "1c16a409-c0e4-459b-a999-2301eba4d9cc",
   "metadata": {},
   "outputs": [
    {
     "data": {
      "text/plain": [
       "'maize'"
      ]
     },
     "execution_count": 27,
     "metadata": {},
     "output_type": "execute_result"
    }
   ],
   "source": [
    "y.iloc[150]"
   ]
  },
  {
   "cell_type": "code",
   "execution_count": 28,
   "id": "4bccde86-ee60-4752-8120-7242c28d2767",
   "metadata": {},
   "outputs": [
    {
     "data": {
      "text/plain": [
       "N                      2\n",
       "P                     40\n",
       "K                     27\n",
       "temperature      29.7377\n",
       "humidity       47.548852\n",
       "ph              5.954627\n",
       "rainfall       90.095869\n",
       "label              mango\n",
       "Name: 1100, dtype: object"
      ]
     },
     "execution_count": 28,
     "metadata": {},
     "output_type": "execute_result"
    }
   ],
   "source": [
    "cp.iloc[1100]"
   ]
  },
  {
   "cell_type": "code",
   "execution_count": 29,
   "id": "e18e8a12-c8c5-44a0-901e-f2029c7de1dc",
   "metadata": {},
   "outputs": [
    {
     "data": {
      "text/plain": [
       "N               2.000000\n",
       "P              40.000000\n",
       "K              27.000000\n",
       "temperature    29.737700\n",
       "humidity       47.548852\n",
       "ph              5.954627\n",
       "rainfall       90.095869\n",
       "Name: 1100, dtype: float64"
      ]
     },
     "execution_count": 29,
     "metadata": {},
     "output_type": "execute_result"
    }
   ],
   "source": [
    "X.iloc[1100]"
   ]
  },
  {
   "cell_type": "code",
   "execution_count": 30,
   "id": "ec1b0e65-261f-46f0-9679-764e50547854",
   "metadata": {},
   "outputs": [
    {
     "data": {
      "text/plain": [
       "array(['mango'], dtype=object)"
      ]
     },
     "execution_count": 30,
     "metadata": {},
     "output_type": "execute_result"
    }
   ],
   "source": [
    "log_reg.predict([[2,\t40,\t27,\t29.737700,\t47.548852,\t5.954627,\t90.095869]])"
   ]
  },
  {
   "cell_type": "code",
   "execution_count": 33,
   "id": "585fa897-eebf-4eb6-bd68-57dda053840e",
   "metadata": {},
   "outputs": [
    {
     "name": "stdout",
     "output_type": "stream",
     "text": [
      "              precision    recall  f1-score   support\n",
      "\n",
      "       apple       1.00      1.00      1.00        23\n",
      "      banana       0.95      1.00      0.98        21\n",
      "   blackgram       0.83      0.75      0.79        20\n",
      "    chickpea       1.00      1.00      1.00        26\n",
      "     coconut       1.00      1.00      1.00        27\n",
      "      coffee       0.94      1.00      0.97        17\n",
      "      cotton       0.80      0.94      0.86        17\n",
      "      grapes       1.00      1.00      1.00        14\n",
      "        jute       0.91      0.87      0.89        23\n",
      " kidneybeans       1.00      0.95      0.97        20\n",
      "      lentil       0.83      0.91      0.87        11\n",
      "       maize       0.94      0.76      0.84        21\n",
      "       mango       0.95      1.00      0.97        19\n",
      "   mothbeans       0.85      0.92      0.88        24\n",
      "    mungbean       0.95      1.00      0.97        19\n",
      "   muskmelon       1.00      1.00      1.00        17\n",
      "      orange       1.00      1.00      1.00        14\n",
      "      papaya       0.95      0.91      0.93        23\n",
      "  pigeonpeas       0.95      0.91      0.93        23\n",
      " pomegranate       1.00      1.00      1.00        23\n",
      "        rice       0.89      0.89      0.89        19\n",
      "  watermelon       1.00      1.00      1.00        19\n",
      "\n",
      "    accuracy                           0.95       440\n",
      "   macro avg       0.94      0.95      0.94       440\n",
      "weighted avg       0.95      0.95      0.94       440\n",
      "\n"
     ]
    }
   ],
   "source": [
    "print(classification_report(Y_test, y_pred))"
   ]
  },
  {
   "cell_type": "code",
   "execution_count": null,
   "id": "a02c7e70-7e69-42d5-ae37-c74c917e23ff",
   "metadata": {},
   "outputs": [],
   "source": []
  },
  {
   "cell_type": "code",
   "execution_count": null,
   "id": "827b7aae-66c9-4862-a147-f40ab76e6d56",
   "metadata": {},
   "outputs": [],
   "source": []
  },
  {
   "cell_type": "code",
   "execution_count": null,
   "id": "5fcc956d-a8a2-4552-aedc-3cf98a758abc",
   "metadata": {},
   "outputs": [],
   "source": []
  }
 ],
 "metadata": {
  "kernelspec": {
   "display_name": "Python 3 (ipykernel)",
   "language": "python",
   "name": "python3"
  },
  "language_info": {
   "codemirror_mode": {
    "name": "ipython",
    "version": 3
   },
   "file_extension": ".py",
   "mimetype": "text/x-python",
   "name": "python",
   "nbconvert_exporter": "python",
   "pygments_lexer": "ipython3",
   "version": "3.11.7"
  }
 },
 "nbformat": 4,
 "nbformat_minor": 5
}
