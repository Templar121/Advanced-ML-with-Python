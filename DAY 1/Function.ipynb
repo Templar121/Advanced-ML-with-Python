{
 "cells": [
  {
   "cell_type": "markdown",
   "id": "1145da03-81e5-4c79-806d-ee2a54f8f581",
   "metadata": {},
   "source": [
    "### <font color = \"red\"> Type of Function\n",
    "1. Function with no arguments\n",
    "2. Function with Required argument\n",
    "3. Function with variable Length Argument\n",
    "4. Function with Keyword length of argument\n",
    "5. Function with Default Argument"
   ]
  },
  {
   "cell_type": "code",
   "execution_count": 2,
   "id": "7f8a6890-434a-40a3-af3a-849ddf3ffd42",
   "metadata": {},
   "outputs": [
    {
     "name": "stdout",
     "output_type": "stream",
     "text": [
      "['False', 'None', 'True', 'and', 'as', 'assert', 'async', 'await', 'break', 'class', 'continue', 'def', 'del', 'elif', 'else', 'except', 'finally', 'for', 'from', 'global', 'if', 'import', 'in', 'is', 'lambda', 'nonlocal', 'not', 'or', 'pass', 'raise', 'return', 'try', 'while', 'with', 'yield']\n",
      "35\n"
     ]
    }
   ],
   "source": [
    "import keyword\n",
    "print(list(keyword.kwlist))\n",
    "print(len((list(keyword.kwlist))))"
   ]
  },
  {
   "cell_type": "code",
   "execution_count": 13,
   "id": "d5b2a1d3-b839-4675-869a-7959ddaa672c",
   "metadata": {},
   "outputs": [],
   "source": [
    "def print_msg():\n",
    "    \"\"\"This function is used for printing the welcome message \"\"\"\n",
    "    print(\"Hello Everyone...\")"
   ]
  },
  {
   "cell_type": "code",
   "execution_count": 14,
   "id": "a4889a79-5849-4b4e-9d40-4f2d2eafc818",
   "metadata": {},
   "outputs": [
    {
     "name": "stdout",
     "output_type": "stream",
     "text": [
      "Hello Everyone...\n"
     ]
    }
   ],
   "source": [
    "print_msg() #calling the function"
   ]
  },
  {
   "cell_type": "code",
   "execution_count": 17,
   "id": "7940a5c6-df7b-40d0-9b1d-3cf157da3fe0",
   "metadata": {},
   "outputs": [],
   "source": [
    "def add(a,b):\n",
    "    print(\"Sum of A {0} and B {1} is {2}\".format(a,b,a+b))\n"
   ]
  },
  {
   "cell_type": "code",
   "execution_count": 18,
   "id": "208eb954-52a6-408c-b486-986f233d62c8",
   "metadata": {},
   "outputs": [
    {
     "name": "stdout",
     "output_type": "stream",
     "text": [
      "Sum of A 10 and B 20 is 30\n"
     ]
    }
   ],
   "source": [
    "add(10,20)"
   ]
  },
  {
   "cell_type": "markdown",
   "id": "e3170d7d-f654-443f-bff3-26638718fae8",
   "metadata": {},
   "source": [
    "### Variable Length of Argument "
   ]
  },
  {
   "cell_type": "code",
   "execution_count": 20,
   "id": "f84dee87-df50-416b-9ca2-57755472cb9c",
   "metadata": {},
   "outputs": [],
   "source": [
    "#add(10, 20, 30, 40, 50, 60, 70, 80, 90)\n",
    "\n",
    "def add(farg, *args):\n",
    "    print(\"The formal argument is \", farg)\n",
    "    s = 0\n",
    "    for i in args:\n",
    "        s+=i\n",
    "        print(\"Sum of all Numbers is\", (farg + s))"
   ]
  },
  {
   "cell_type": "code",
   "execution_count": 21,
   "id": "d7f8310f-8dba-4b0a-ab5e-f6398a8245ad",
   "metadata": {},
   "outputs": [
    {
     "name": "stdout",
     "output_type": "stream",
     "text": [
      "The formal argument is  10\n",
      "Sum of all Numbers is 30\n",
      "Sum of all Numbers is 60\n",
      "Sum of all Numbers is 100\n",
      "Sum of all Numbers is 150\n",
      "Sum of all Numbers is 210\n",
      "Sum of all Numbers is 280\n",
      "Sum of all Numbers is 360\n",
      "Sum of all Numbers is 450\n"
     ]
    }
   ],
   "source": [
    "add(10, 20, 30, 40, 50, 60, 70, 80, 90)"
   ]
  },
  {
   "cell_type": "code",
   "execution_count": null,
   "id": "c987e327-5bb1-4a25-8316-efb03f265e9b",
   "metadata": {},
   "outputs": [],
   "source": []
  },
  {
   "cell_type": "code",
   "execution_count": null,
   "id": "eb765ba4-9517-493c-93e6-3e80c74f979a",
   "metadata": {},
   "outputs": [],
   "source": []
  }
 ],
 "metadata": {
  "kernelspec": {
   "display_name": "Python 3 (ipykernel)",
   "language": "python",
   "name": "python3"
  },
  "language_info": {
   "codemirror_mode": {
    "name": "ipython",
    "version": 3
   },
   "file_extension": ".py",
   "mimetype": "text/x-python",
   "name": "python",
   "nbconvert_exporter": "python",
   "pygments_lexer": "ipython3",
   "version": "3.11.7"
  }
 },
 "nbformat": 4,
 "nbformat_minor": 5
}
