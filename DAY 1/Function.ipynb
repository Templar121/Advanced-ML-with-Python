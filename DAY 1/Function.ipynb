{
 "cells": [
  {
   "cell_type": "markdown",
   "id": "1145da03-81e5-4c79-806d-ee2a54f8f581",
   "metadata": {},
   "source": [
    "### <font color = \"red\"> Type of Function\n",
    "1. Function with no arguments\n",
    "2. Function with Required argument\n",
    "3. Function with variable Length Argument\n",
    "4. Function with Keyword length of argument\n",
    "5. Function with Default Argument"
   ]
  },
  {
   "cell_type": "code",
   "execution_count": 2,
   "id": "7f8a6890-434a-40a3-af3a-849ddf3ffd42",
   "metadata": {},
   "outputs": [
    {
     "name": "stdout",
     "output_type": "stream",
     "text": [
      "['False', 'None', 'True', 'and', 'as', 'assert', 'async', 'await', 'break', 'class', 'continue', 'def', 'del', 'elif', 'else', 'except', 'finally', 'for', 'from', 'global', 'if', 'import', 'in', 'is', 'lambda', 'nonlocal', 'not', 'or', 'pass', 'raise', 'return', 'try', 'while', 'with', 'yield']\n",
      "35\n"
     ]
    }
   ],
   "source": [
    "import keyword\n",
    "print(list(keyword.kwlist))\n",
    "print(len((list(keyword.kwlist))))"
   ]
  },
  {
   "cell_type": "code",
   "execution_count": 13,
   "id": "d5b2a1d3-b839-4675-869a-7959ddaa672c",
   "metadata": {},
   "outputs": [],
   "source": [
    "def print_msg():\n",
    "    \"\"\"This function is used for printing the welcome message \"\"\"\n",
    "    print(\"Hello Everyone...\")"
   ]
  },
  {
   "cell_type": "code",
   "execution_count": 14,
   "id": "a4889a79-5849-4b4e-9d40-4f2d2eafc818",
   "metadata": {},
   "outputs": [
    {
     "name": "stdout",
     "output_type": "stream",
     "text": [
      "Hello Everyone...\n"
     ]
    }
   ],
   "source": [
    "print_msg() #calling the function"
   ]
  },
  {
   "cell_type": "code",
   "execution_count": 17,
   "id": "7940a5c6-df7b-40d0-9b1d-3cf157da3fe0",
   "metadata": {},
   "outputs": [],
   "source": [
    "def add(a,b):\n",
    "    print(\"Sum of A {0} and B {1} is {2}\".format(a,b,a+b))\n"
   ]
  },
  {
   "cell_type": "code",
   "execution_count": 18,
   "id": "208eb954-52a6-408c-b486-986f233d62c8",
   "metadata": {},
   "outputs": [
    {
     "name": "stdout",
     "output_type": "stream",
     "text": [
      "Sum of A 10 and B 20 is 30\n"
     ]
    }
   ],
   "source": [
    "add(10,20)"
   ]
  },
  {
   "cell_type": "markdown",
   "id": "e3170d7d-f654-443f-bff3-26638718fae8",
   "metadata": {},
   "source": [
    "### Variable Length of Argument "
   ]
  },
  {
   "cell_type": "code",
   "execution_count": 22,
   "id": "f84dee87-df50-416b-9ca2-57755472cb9c",
   "metadata": {},
   "outputs": [],
   "source": [
    "#add(10, 20, 30, 40, 50, 60, 70, 80, 90)\n",
    "\n",
    "def add(farg, *args):\n",
    "    print(\"The formal argument is \", farg)\n",
    "    s = 0\n",
    "    for i in args:\n",
    "        s+=i\n",
    "    print(\"Sum of all Numbers is\", (farg + s))\n",
    "    return    "
   ]
  },
  {
   "cell_type": "code",
   "execution_count": 23,
   "id": "d7f8310f-8dba-4b0a-ab5e-f6398a8245ad",
   "metadata": {},
   "outputs": [
    {
     "name": "stdout",
     "output_type": "stream",
     "text": [
      "The formal argument is  10\n",
      "Sum of all Numbers is 450\n"
     ]
    }
   ],
   "source": [
    "add(10, 20, 30, 40, 50, 60, 70, 80, 90)"
   ]
  },
  {
   "cell_type": "code",
   "execution_count": 24,
   "id": "c987e327-5bb1-4a25-8316-efb03f265e9b",
   "metadata": {},
   "outputs": [],
   "source": [
    "def display(farg, **kwargs):\n",
    "    print(\"formal arguments = \", farg)\n",
    "    for x,y in kwargs.items():\n",
    "        print(\"key = {0} value = {1}\". format(x,y))"
   ]
  },
  {
   "cell_type": "code",
   "execution_count": 26,
   "id": "eb765ba4-9517-493c-93e6-3e80c74f979a",
   "metadata": {},
   "outputs": [
    {
     "name": "stdout",
     "output_type": "stream",
     "text": [
      "formal arguments =  1\n",
      "key = rno value = 10\n",
      "key = name value = arun\n",
      "key = grade value = 60\n"
     ]
    }
   ],
   "source": [
    "display(1, rno = 10, name = 'arun', grade = 60)"
   ]
  },
  {
   "cell_type": "code",
   "execution_count": 27,
   "id": "a612cbde-59c3-41a7-8192-4f284a072565",
   "metadata": {},
   "outputs": [],
   "source": [
    "def even_odd(num):\n",
    "    if num%2 == 0:\n",
    "        return \"The number {0} is even\".format(num)\n",
    "    else:\n",
    "        return \"The number {0} is odd\".format(num)"
   ]
  },
  {
   "cell_type": "code",
   "execution_count": 30,
   "id": "1daf91f4-4d1a-4395-974e-99eeaedf8102",
   "metadata": {},
   "outputs": [],
   "source": [
    "l = [15, 3, 7, 2 , 4, 16, 18, 23, 40, 35]"
   ]
  },
  {
   "cell_type": "code",
   "execution_count": 29,
   "id": "43da986c-c8aa-45f0-8fe0-9851d23410bf",
   "metadata": {},
   "outputs": [
    {
     "name": "stdout",
     "output_type": "stream",
     "text": [
      "Help on class map in module builtins:\n",
      "\n",
      "class map(object)\n",
      " |  map(func, *iterables) --> map object\n",
      " |  \n",
      " |  Make an iterator that computes the function using arguments from\n",
      " |  each of the iterables.  Stops when the shortest iterable is exhausted.\n",
      " |  \n",
      " |  Methods defined here:\n",
      " |  \n",
      " |  __getattribute__(self, name, /)\n",
      " |      Return getattr(self, name).\n",
      " |  \n",
      " |  __iter__(self, /)\n",
      " |      Implement iter(self).\n",
      " |  \n",
      " |  __next__(self, /)\n",
      " |      Implement next(self).\n",
      " |  \n",
      " |  __reduce__(...)\n",
      " |      Return state information for pickling.\n",
      " |  \n",
      " |  ----------------------------------------------------------------------\n",
      " |  Static methods defined here:\n",
      " |  \n",
      " |  __new__(*args, **kwargs) from builtins.type\n",
      " |      Create and return a new object.  See help(type) for accurate signature.\n",
      "\n"
     ]
    }
   ],
   "source": [
    "help(map)"
   ]
  },
  {
   "cell_type": "code",
   "execution_count": 33,
   "id": "a65af6b8-562f-4e48-88a9-1c8c8c347176",
   "metadata": {},
   "outputs": [
    {
     "name": "stdout",
     "output_type": "stream",
     "text": [
      "['The number 15 is odd', 'The number 3 is odd', 'The number 7 is odd', 'The number 2 is even', 'The number 4 is even', 'The number 16 is even', 'The number 18 is even', 'The number 23 is odd', 'The number 40 is even', 'The number 35 is odd']\n"
     ]
    }
   ],
   "source": [
    "print(list(map(even_odd, l)))"
   ]
  },
  {
   "cell_type": "code",
   "execution_count": null,
   "id": "43217c59-1d13-408c-ae3a-fb925930fba2",
   "metadata": {},
   "outputs": [],
   "source": []
  },
  {
   "cell_type": "code",
   "execution_count": null,
   "id": "23c880e6-7334-428c-8623-c2f04b74947e",
   "metadata": {},
   "outputs": [],
   "source": []
  },
  {
   "cell_type": "code",
   "execution_count": null,
   "id": "11397312-ae7c-419b-b77c-a73564897cb2",
   "metadata": {},
   "outputs": [],
   "source": []
  }
 ],
 "metadata": {
  "kernelspec": {
   "display_name": "Python 3 (ipykernel)",
   "language": "python",
   "name": "python3"
  },
  "language_info": {
   "codemirror_mode": {
    "name": "ipython",
    "version": 3
   },
   "file_extension": ".py",
   "mimetype": "text/x-python",
   "name": "python",
   "nbconvert_exporter": "python",
   "pygments_lexer": "ipython3",
   "version": "3.11.7"
  }
 },
 "nbformat": 4,
 "nbformat_minor": 5
}
