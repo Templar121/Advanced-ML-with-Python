{
 "cells": [
  {
   "cell_type": "markdown",
   "id": "6c569b8c-60cf-4b18-ae21-e834bcdc11d7",
   "metadata": {},
   "source": [
    "### <font color=\"red\"> Numpy is a python Library , stands for Numerical Python. It contains a collection of tools and techniques that can be used to solve on a computer mathematical models of problems. "
   ]
  },
  {
   "cell_type": "code",
   "execution_count": 58,
   "id": "6b29c4ab-b395-4f6d-8852-85743272d4b5",
   "metadata": {},
   "outputs": [],
   "source": [
    "import numpy as np"
   ]
  },
  {
   "cell_type": "code",
   "execution_count": 59,
   "id": "9e298bb2-3111-4e75-aa97-33827d23831a",
   "metadata": {},
   "outputs": [
    {
     "name": "stdout",
     "output_type": "stream",
     "text": [
      "1.26.4\n"
     ]
    }
   ],
   "source": [
    "print(np.__version__)"
   ]
  },
  {
   "cell_type": "code",
   "execution_count": 60,
   "id": "9653382f-ab3d-4403-a1c7-20f3a7866e12",
   "metadata": {},
   "outputs": [
    {
     "name": "stdout",
     "output_type": "stream",
     "text": [
      "[1 2 3 4]\n",
      "<class 'numpy.ndarray'>\n"
     ]
    }
   ],
   "source": [
    "#Printing 1-Dimensional Array\n",
    "a = np.array([1,2,3,4])\n",
    "print(a)\n",
    "print(type(a))"
   ]
  },
  {
   "cell_type": "code",
   "execution_count": 61,
   "id": "2f6af3ee-6ede-4a0b-8739-16fedcbe7b17",
   "metadata": {},
   "outputs": [
    {
     "name": "stdout",
     "output_type": "stream",
     "text": [
      "[[1 2 3]\n",
      " [5 6 7]]\n",
      "<class 'numpy.ndarray'>\n"
     ]
    }
   ],
   "source": [
    "#Printing 2-Dimensional Array\n",
    "b = np.array([[1,2,3],[5,6,7]])\n",
    "print(b)\n",
    "print(type(b))\n"
   ]
  },
  {
   "cell_type": "code",
   "execution_count": 62,
   "id": "9431bb52-6f8e-42b7-b058-e03c1c00ab45",
   "metadata": {},
   "outputs": [
    {
     "name": "stdout",
     "output_type": "stream",
     "text": [
      "<class 'numpy.ndarray'>\n",
      "[[[1 2]\n",
      "  [3 4]]\n",
      "\n",
      " [[5 6]\n",
      "  [7 8]]]\n"
     ]
    }
   ],
   "source": [
    "#Printing 3-Dimensional Array\n",
    "c = np.array([[[1,2],[3,4]],[[5,6],[7,8]]])\n",
    "print(type(c))\n",
    "print(c)"
   ]
  },
  {
   "cell_type": "code",
   "execution_count": 63,
   "id": "ae9be2eb-87c2-43de-8a07-1d4af398db74",
   "metadata": {},
   "outputs": [
    {
     "name": "stdout",
     "output_type": "stream",
     "text": [
      "1\n",
      "2\n",
      "3\n"
     ]
    }
   ],
   "source": [
    "#Dimension of the Array checking\n",
    "\n",
    "print(a.ndim)\n",
    "print(b.ndim)\n",
    "print(c.ndim)"
   ]
  },
  {
   "cell_type": "markdown",
   "id": "9f603761-6cdc-457c-a134-c7c5625e68b6",
   "metadata": {},
   "source": [
    "### <font color=\"red\">Shape :- It return the shape of array in tuple form , it can also be used to resize the array"
   ]
  },
  {
   "cell_type": "code",
   "execution_count": 64,
   "id": "f13b47ca-1b07-470a-87a8-5f7b0b0c08c7",
   "metadata": {},
   "outputs": [
    {
     "name": "stdout",
     "output_type": "stream",
     "text": [
      "(4,)\n",
      "(2, 3)\n",
      "(2, 2, 2)\n"
     ]
    }
   ],
   "source": [
    "print(a.shape)\n",
    "print(b.shape)\n",
    "print(c.shape)"
   ]
  },
  {
   "cell_type": "markdown",
   "id": "85f85ae5-8caf-4ffc-9855-aa7dd3a52c05",
   "metadata": {},
   "source": [
    "### <font color=\"red\"> Length = It returns length of the array for N - Dimension, It return size for the first dimension "
   ]
  },
  {
   "cell_type": "code",
   "execution_count": 65,
   "id": "19a9355d-a191-41a4-9067-e447f59d143c",
   "metadata": {},
   "outputs": [
    {
     "name": "stdout",
     "output_type": "stream",
     "text": [
      "4\n",
      "2\n",
      "2\n"
     ]
    }
   ],
   "source": [
    "print(len(a))\n",
    "print(len(b))\n",
    "print(len(c))"
   ]
  },
  {
   "cell_type": "markdown",
   "id": "ac193ae3-9343-4b3c-a4ad-01d8e284a68e",
   "metadata": {},
   "source": [
    "### <font color=\"red\"> dtype = It returns the datatype of the Array "
   ]
  },
  {
   "cell_type": "code",
   "execution_count": 66,
   "id": "38fe483b-9f7c-458a-9817-9cc1e61dcafb",
   "metadata": {},
   "outputs": [
    {
     "name": "stdout",
     "output_type": "stream",
     "text": [
      "int32\n",
      "int32\n",
      "int32\n",
      "complex128\n",
      "[1.+0.j 2.+0.j 3.+0.j 4.+0.j]\n"
     ]
    }
   ],
   "source": [
    "d = np.array([1,2,3,4], dtype='complex')\n",
    "print(a.dtype)\n",
    "print(b.dtype)\n",
    "print(c.dtype)\n",
    "print(d.dtype)\n",
    "print(d)"
   ]
  },
  {
   "cell_type": "markdown",
   "id": "70af9fd4-5771-490a-b8ea-c6fea6faf461",
   "metadata": {},
   "source": [
    "### <font color=\"red\"> Size = it returns the total numbers of elements inside the Array "
   ]
  },
  {
   "cell_type": "code",
   "execution_count": 67,
   "id": "f85b3f11-fb21-4ba5-877e-62d4085b7f7d",
   "metadata": {},
   "outputs": [
    {
     "name": "stdout",
     "output_type": "stream",
     "text": [
      "4\n",
      "6\n",
      "8\n",
      "4\n"
     ]
    }
   ],
   "source": [
    "print(a.size)\n",
    "print(b.size)\n",
    "print(c.size)\n",
    "print(d.size)"
   ]
  },
  {
   "cell_type": "markdown",
   "id": "1b6f6b95-a7ba-4abd-a0ee-88cd8e457cec",
   "metadata": {},
   "source": [
    "### <font color=\"red\"> Item Size = It returns each element of array in bytes size"
   ]
  },
  {
   "cell_type": "code",
   "execution_count": 68,
   "id": "0db3e987-67a6-413d-a4c5-6c3dc8bb0eba",
   "metadata": {},
   "outputs": [
    {
     "name": "stdout",
     "output_type": "stream",
     "text": [
      "4\n",
      "4\n",
      "4\n"
     ]
    }
   ],
   "source": [
    "print(a.itemsize)\n",
    "print(b.itemsize)\n",
    "print(c.itemsize)"
   ]
  },
  {
   "cell_type": "markdown",
   "id": "88b7deab-3f99-4721-8def-9e0f0d0c7a84",
   "metadata": {},
   "source": [
    "### <font color = \"red\"> Why using Numpy in place of List\n"
   ]
  },
  {
   "cell_type": "code",
   "execution_count": 69,
   "id": "7adc0682-dd7f-40c3-a2cb-f7e2924631ba",
   "metadata": {},
   "outputs": [
    {
     "name": "stdout",
     "output_type": "stream",
     "text": [
      "5.92 µs ± 70 ns per loop (mean ± std. dev. of 7 runs, 100,000 loops each)\n"
     ]
    }
   ],
   "source": [
    "#Creating of the cube number from 1 to 100\n",
    "%timeit cube = [i**3 for i in range(100)]"
   ]
  },
  {
   "cell_type": "code",
   "execution_count": 70,
   "id": "48a166e5-11d4-48b1-8be6-1770baa21971",
   "metadata": {},
   "outputs": [
    {
     "name": "stdout",
     "output_type": "stream",
     "text": [
      "1.2 µs ± 39.9 ns per loop (mean ± std. dev. of 7 runs, 1,000,000 loops each)\n"
     ]
    }
   ],
   "source": [
    "num = np.arange(100)\n",
    "%timeit num**3"
   ]
  },
  {
   "cell_type": "code",
   "execution_count": 71,
   "id": "5693d1b0-1f86-4957-a275-6f163d6eb86d",
   "metadata": {},
   "outputs": [
    {
     "name": "stdout",
     "output_type": "stream",
     "text": [
      "Memory space in list 92000\n"
     ]
    }
   ],
   "source": [
    "# Checking of the Space\n",
    "import sys\n",
    "cube = [i**3 for i in range(100)]\n",
    "print(\"Memory space in list\", sys.getsizeof(cube) * len(cube))"
   ]
  },
  {
   "cell_type": "code",
   "execution_count": 72,
   "id": "74ea7fde-d13a-4029-9400-e9ca76d6ca46",
   "metadata": {},
   "outputs": [
    {
     "name": "stdout",
     "output_type": "stream",
     "text": [
      "Memory space in Numpy 400\n"
     ]
    }
   ],
   "source": [
    "num = np.arange(100)\n",
    "cube = num**3\n",
    "print(\"Memory space in Numpy\", num.size * cube.itemsize)"
   ]
  },
  {
   "cell_type": "markdown",
   "id": "f569900c-5103-474e-8a6a-69c730ef4b31",
   "metadata": {},
   "source": [
    "### <font color = \"red\"> Array creation using ones and zero\n",
    "1. numpy.empty = return a new array of given shape withot initializing it\n",
    " "
   ]
  },
  {
   "cell_type": "code",
   "execution_count": 73,
   "id": "caea56ed-8387-46b5-a170-7c509fe0fa6f",
   "metadata": {},
   "outputs": [
    {
     "name": "stdout",
     "output_type": "stream",
     "text": [
      "[[100.   0.   0.]\n",
      " [  0. 100.   0.]\n",
      " [  0.   0.   1.]]\n"
     ]
    }
   ],
   "source": [
    "emp = np.empty((3,3))\n",
    "print(emp)"
   ]
  },
  {
   "cell_type": "markdown",
   "id": "803a0f97-cbcf-44cc-9eba-884bfe481f47",
   "metadata": {},
   "source": [
    "### <font color = \"red\"> numpy.zeros = return a new array with given shape and type filled with zero "
   ]
  },
  {
   "cell_type": "code",
   "execution_count": 74,
   "id": "b346274c-8a22-43ab-859d-39e8101fe60c",
   "metadata": {},
   "outputs": [
    {
     "name": "stdout",
     "output_type": "stream",
     "text": [
      "[[0. 0. 0. 0. 0.]\n",
      " [0. 0. 0. 0. 0.]\n",
      " [0. 0. 0. 0. 0.]\n",
      " [0. 0. 0. 0. 0.]\n",
      " [0. 0. 0. 0. 0.]]\n"
     ]
    }
   ],
   "source": [
    "z = np.zeros(shape = (5,5))\n",
    "print(z)"
   ]
  },
  {
   "cell_type": "markdown",
   "id": "d64b9576-570e-4aa3-be46-f76e877c1ec6",
   "metadata": {},
   "source": [
    "### <font color = \"red\"> np.ones =  it returns a new array of given shape with 1 filling"
   ]
  },
  {
   "cell_type": "code",
   "execution_count": 75,
   "id": "bb9acdc6-6029-47c7-b64c-5c5dec4d8c46",
   "metadata": {},
   "outputs": [
    {
     "name": "stdout",
     "output_type": "stream",
     "text": [
      "[[1. 1. 1. 1.]\n",
      " [1. 1. 1. 1.]\n",
      " [1. 1. 1. 1.]\n",
      " [1. 1. 1. 1.]]\n"
     ]
    }
   ],
   "source": [
    "o = np.ones((4,4), dtype = 'float32')\n",
    "print(o)"
   ]
  },
  {
   "cell_type": "markdown",
   "id": "c92e79a3-f472-4403-a2ff-e6f661f9e480",
   "metadata": {},
   "source": [
    "### <font color = \"red\"> np.eye = It returns 2D array with one of the daigonal as Zeroes elsewhere it is also called daigonal matrix"
   ]
  },
  {
   "cell_type": "code",
   "execution_count": 76,
   "id": "24c61d79-8548-405a-8800-67e277be04b3",
   "metadata": {},
   "outputs": [
    {
     "name": "stdout",
     "output_type": "stream",
     "text": [
      "[[1 0 0 0]\n",
      " [0 1 0 0]\n",
      " [0 0 1 0]\n",
      " [0 0 0 1]]\n"
     ]
    }
   ],
   "source": [
    "i = np.eye((4), dtype = np.uint16)\n",
    "print(i)"
   ]
  },
  {
   "cell_type": "markdown",
   "id": "e4370062-7031-4c92-8e98-e3e720e8b4e2",
   "metadata": {},
   "source": [
    "### <font color = \"red\"> np.full = It returns a new Array of given set and type filled with fill_value"
   ]
  },
  {
   "cell_type": "code",
   "execution_count": 77,
   "id": "e000c580-dcc6-464b-b011-517a71e804ae",
   "metadata": {},
   "outputs": [
    {
     "name": "stdout",
     "output_type": "stream",
     "text": [
      "[[5. 5. 5. 5.]\n",
      " [5. 5. 5. 5.]\n",
      " [5. 5. 5. 5.]\n",
      " [5. 5. 5. 5.]]\n"
     ]
    }
   ],
   "source": [
    "f = np.full((4,4), fill_value = 5, dtype = 'float32')\n",
    "print(f)"
   ]
  },
  {
   "cell_type": "markdown",
   "id": "3b89d15b-6f86-41ad-935d-1f214cb783b6",
   "metadata": {},
   "source": [
    "### <font color = \"red\"> Array creation using Numerical range\n",
    "\n",
    "np.arange() "
   ]
  },
  {
   "cell_type": "code",
   "execution_count": 78,
   "id": "8768bce8-e0a8-4953-b5de-7235b951be4d",
   "metadata": {},
   "outputs": [
    {
     "name": "stdout",
     "output_type": "stream",
     "text": [
      "Help on built-in function arange in module numpy:\n",
      "\n",
      "arange(...)\n",
      "    arange([start,] stop[, step,], dtype=None, *, like=None)\n",
      "    \n",
      "    Return evenly spaced values within a given interval.\n",
      "    \n",
      "    ``arange`` can be called with a varying number of positional arguments:\n",
      "    \n",
      "    * ``arange(stop)``: Values are generated within the half-open interval\n",
      "      ``[0, stop)`` (in other words, the interval including `start` but\n",
      "      excluding `stop`).\n",
      "    * ``arange(start, stop)``: Values are generated within the half-open\n",
      "      interval ``[start, stop)``.\n",
      "    * ``arange(start, stop, step)`` Values are generated within the half-open\n",
      "      interval ``[start, stop)``, with spacing between values given by\n",
      "      ``step``.\n",
      "    \n",
      "    For integer arguments the function is roughly equivalent to the Python\n",
      "    built-in :py:class:`range`, but returns an ndarray rather than a ``range``\n",
      "    instance.\n",
      "    \n",
      "    When using a non-integer step, such as 0.1, it is often better to use\n",
      "    `numpy.linspace`.\n",
      "    \n",
      "    See the Warning sections below for more information.\n",
      "    \n",
      "    Parameters\n",
      "    ----------\n",
      "    start : integer or real, optional\n",
      "        Start of interval.  The interval includes this value.  The default\n",
      "        start value is 0.\n",
      "    stop : integer or real\n",
      "        End of interval.  The interval does not include this value, except\n",
      "        in some cases where `step` is not an integer and floating point\n",
      "        round-off affects the length of `out`.\n",
      "    step : integer or real, optional\n",
      "        Spacing between values.  For any output `out`, this is the distance\n",
      "        between two adjacent values, ``out[i+1] - out[i]``.  The default\n",
      "        step size is 1.  If `step` is specified as a position argument,\n",
      "        `start` must also be given.\n",
      "    dtype : dtype, optional\n",
      "        The type of the output array.  If `dtype` is not given, infer the data\n",
      "        type from the other input arguments.\n",
      "    like : array_like, optional\n",
      "        Reference object to allow the creation of arrays which are not\n",
      "        NumPy arrays. If an array-like passed in as ``like`` supports\n",
      "        the ``__array_function__`` protocol, the result will be defined\n",
      "        by it. In this case, it ensures the creation of an array object\n",
      "        compatible with that passed in via this argument.\n",
      "    \n",
      "        .. versionadded:: 1.20.0\n",
      "    \n",
      "    Returns\n",
      "    -------\n",
      "    arange : ndarray\n",
      "        Array of evenly spaced values.\n",
      "    \n",
      "        For floating point arguments, the length of the result is\n",
      "        ``ceil((stop - start)/step)``.  Because of floating point overflow,\n",
      "        this rule may result in the last element of `out` being greater\n",
      "        than `stop`.\n",
      "    \n",
      "    Warnings\n",
      "    --------\n",
      "    The length of the output might not be numerically stable.\n",
      "    \n",
      "    Another stability issue is due to the internal implementation of\n",
      "    `numpy.arange`.\n",
      "    The actual step value used to populate the array is\n",
      "    ``dtype(start + step) - dtype(start)`` and not `step`. Precision loss\n",
      "    can occur here, due to casting or due to using floating points when\n",
      "    `start` is much larger than `step`. This can lead to unexpected\n",
      "    behaviour. For example::\n",
      "    \n",
      "      >>> np.arange(0, 5, 0.5, dtype=int)\n",
      "      array([0, 0, 0, 0, 0, 0, 0, 0, 0, 0])\n",
      "      >>> np.arange(-3, 3, 0.5, dtype=int)\n",
      "      array([-3, -2, -1,  0,  1,  2,  3,  4,  5,  6,  7,  8])\n",
      "    \n",
      "    In such cases, the use of `numpy.linspace` should be preferred.\n",
      "    \n",
      "    The built-in :py:class:`range` generates :std:doc:`Python built-in integers\n",
      "    that have arbitrary size <python:c-api/long>`, while `numpy.arange`\n",
      "    produces `numpy.int32` or `numpy.int64` numbers. This may result in\n",
      "    incorrect results for large integer values::\n",
      "    \n",
      "      >>> power = 40\n",
      "      >>> modulo = 10000\n",
      "      >>> x1 = [(n ** power) % modulo for n in range(8)]\n",
      "      >>> x2 = [(n ** power) % modulo for n in np.arange(8)]\n",
      "      >>> print(x1)\n",
      "      [0, 1, 7776, 8801, 6176, 625, 6576, 4001]  # correct\n",
      "      >>> print(x2)\n",
      "      [0, 1, 7776, 7185, 0, 5969, 4816, 3361]  # incorrect\n",
      "    \n",
      "    See Also\n",
      "    --------\n",
      "    numpy.linspace : Evenly spaced numbers with careful handling of endpoints.\n",
      "    numpy.ogrid: Arrays of evenly spaced numbers in N-dimensions.\n",
      "    numpy.mgrid: Grid-shaped arrays of evenly spaced numbers in N-dimensions.\n",
      "    :ref:`how-to-partition`\n",
      "    \n",
      "    Examples\n",
      "    --------\n",
      "    >>> np.arange(3)\n",
      "    array([0, 1, 2])\n",
      "    >>> np.arange(3.0)\n",
      "    array([ 0.,  1.,  2.])\n",
      "    >>> np.arange(3,7)\n",
      "    array([3, 4, 5, 6])\n",
      "    >>> np.arange(3,7,2)\n",
      "    array([3, 5])\n",
      "\n"
     ]
    }
   ],
   "source": [
    "help(np.arange)"
   ]
  },
  {
   "cell_type": "code",
   "execution_count": 79,
   "id": "23d41495-1652-4fff-85c3-091a4cfb8aa6",
   "metadata": {},
   "outputs": [
    {
     "name": "stdout",
     "output_type": "stream",
     "text": [
      "[ 1  2  3  4  5  6  7  8  9 10]\n"
     ]
    }
   ],
   "source": [
    "a = np.arange(1, 11)\n",
    "print(a)"
   ]
  },
  {
   "cell_type": "markdown",
   "id": "b1729795-dcd8-4091-b5e0-57d9c4420ad7",
   "metadata": {},
   "source": [
    "### <font color = \"red\"> Using of reshape, it return new array with new shape"
   ]
  },
  {
   "cell_type": "code",
   "execution_count": 80,
   "id": "43b92cc4-10bd-4ed5-bba7-644a0130b91b",
   "metadata": {},
   "outputs": [
    {
     "name": "stdout",
     "output_type": "stream",
     "text": [
      "[[ 1  2]\n",
      " [ 3  4]\n",
      " [ 5  6]\n",
      " [ 7  8]\n",
      " [ 9 10]]\n"
     ]
    }
   ],
   "source": [
    "n = np.reshape(a,(5,2))\n",
    "print(n)"
   ]
  },
  {
   "cell_type": "markdown",
   "id": "b662493e-236c-44ce-ac50-fe9e85ae9d5e",
   "metadata": {},
   "source": [
    "### <font color = \"red\"> Write a Program to generate sin , cos , tan  by using Numpy inbuilt sin cos tan function and the value range will lie between 0 to 4 multiply pi, with step of 0.1 "
   ]
  },
  {
   "cell_type": "code",
   "execution_count": 81,
   "id": "9b81a01c-3854-473d-9251-9b196d0f8512",
   "metadata": {},
   "outputs": [],
   "source": [
    "x = np.arange(0, np.pi*4, 0.1)\n",
    "y1 = np.sin(x)\n",
    "y2 = np.cos(x)\n",
    "y3 = np.tan(x)\n"
   ]
  },
  {
   "cell_type": "code",
   "execution_count": 82,
   "id": "c5b03538-250c-40d8-ab79-97baac8d8bfd",
   "metadata": {},
   "outputs": [
    {
     "data": {
      "text/plain": [
       "<function matplotlib.pyplot.show(close=None, block=None)>"
      ]
     },
     "execution_count": 82,
     "metadata": {},
     "output_type": "execute_result"
    },
    {
     "data": {
      "image/png": "[encoded data removed]",
      "text/plain": [
       "<Figure size 1000x400 with 3 Axes>"
      ]
     },
     "metadata": {},
     "output_type": "display_data"
    }
   ],
   "source": [
    "import matplotlib.pyplot as plt\n",
    "\n",
    "plt.figure(figsize = (10, 4))\n",
    "plt.subplot(1, 3, 1)\n",
    "plt.plot(x, y1)\n",
    "plt.title('Sin x')\n",
    "\n",
    "plt.subplot(1, 3, 2)\n",
    "plt.plot(x, y2)\n",
    "plt.title('Cos x')\n",
    "\n",
    "plt.subplot(1, 3, 3)\n",
    "plt.plot(x, y3)\n",
    "plt.title('tan x')\n",
    "\n",
    "plt.show"
   ]
  },
  {
   "cell_type": "markdown",
   "id": "50a49499-d25a-4a19-8d15-ed92ec6807e2",
   "metadata": {},
   "source": [
    "### <font color = \"red\"> numpy.linspace is similar to the arange() function , instead of step size , the number given in linspace values between the interval  "
   ]
  },
  {
   "cell_type": "code",
   "execution_count": 83,
   "id": "3af92a2a-3aa6-4997-a19c-6eb1660dc5bb",
   "metadata": {},
   "outputs": [
    {
     "name": "stdout",
     "output_type": "stream",
     "text": [
      "Help on _ArrayFunctionDispatcher in module numpy:\n",
      "\n",
      "linspace(start, stop, num=50, endpoint=True, retstep=False, dtype=None, axis=0)\n",
      "    Return evenly spaced numbers over a specified interval.\n",
      "    \n",
      "    Returns `num` evenly spaced samples, calculated over the\n",
      "    interval [`start`, `stop`].\n",
      "    \n",
      "    The endpoint of the interval can optionally be excluded.\n",
      "    \n",
      "    .. versionchanged:: 1.16.0\n",
      "        Non-scalar `start` and `stop` are now supported.\n",
      "    \n",
      "    .. versionchanged:: 1.20.0\n",
      "        Values are rounded towards ``-inf`` instead of ``0`` when an\n",
      "        integer ``dtype`` is specified. The old behavior can\n",
      "        still be obtained with ``np.linspace(start, stop, num).astype(int)``\n",
      "    \n",
      "    Parameters\n",
      "    ----------\n",
      "    start : array_like\n",
      "        The starting value of the sequence.\n",
      "    stop : array_like\n",
      "        The end value of the sequence, unless `endpoint` is set to False.\n",
      "        In that case, the sequence consists of all but the last of ``num + 1``\n",
      "        evenly spaced samples, so that `stop` is excluded.  Note that the step\n",
      "        size changes when `endpoint` is False.\n",
      "    num : int, optional\n",
      "        Number of samples to generate. Default is 50. Must be non-negative.\n",
      "    endpoint : bool, optional\n",
      "        If True, `stop` is the last sample. Otherwise, it is not included.\n",
      "        Default is True.\n",
      "    retstep : bool, optional\n",
      "        If True, return (`samples`, `step`), where `step` is the spacing\n",
      "        between samples.\n",
      "    dtype : dtype, optional\n",
      "        The type of the output array.  If `dtype` is not given, the data type\n",
      "        is inferred from `start` and `stop`. The inferred dtype will never be\n",
      "        an integer; `float` is chosen even if the arguments would produce an\n",
      "        array of integers.\n",
      "    \n",
      "        .. versionadded:: 1.9.0\n",
      "    \n",
      "    axis : int, optional\n",
      "        The axis in the result to store the samples.  Relevant only if start\n",
      "        or stop are array-like.  By default (0), the samples will be along a\n",
      "        new axis inserted at the beginning. Use -1 to get an axis at the end.\n",
      "    \n",
      "        .. versionadded:: 1.16.0\n",
      "    \n",
      "    Returns\n",
      "    -------\n",
      "    samples : ndarray\n",
      "        There are `num` equally spaced samples in the closed interval\n",
      "        ``[start, stop]`` or the half-open interval ``[start, stop)``\n",
      "        (depending on whether `endpoint` is True or False).\n",
      "    step : float, optional\n",
      "        Only returned if `retstep` is True\n",
      "    \n",
      "        Size of spacing between samples.\n",
      "    \n",
      "    \n",
      "    See Also\n",
      "    --------\n",
      "    arange : Similar to `linspace`, but uses a step size (instead of the\n",
      "             number of samples).\n",
      "    geomspace : Similar to `linspace`, but with numbers spaced evenly on a log\n",
      "                scale (a geometric progression).\n",
      "    logspace : Similar to `geomspace`, but with the end points specified as\n",
      "               logarithms.\n",
      "    :ref:`how-to-partition`\n",
      "    \n",
      "    Examples\n",
      "    --------\n",
      "    >>> np.linspace(2.0, 3.0, num=5)\n",
      "    array([2.  , 2.25, 2.5 , 2.75, 3.  ])\n",
      "    >>> np.linspace(2.0, 3.0, num=5, endpoint=False)\n",
      "    array([2. ,  2.2,  2.4,  2.6,  2.8])\n",
      "    >>> np.linspace(2.0, 3.0, num=5, retstep=True)\n",
      "    (array([2.  ,  2.25,  2.5 ,  2.75,  3.  ]), 0.25)\n",
      "    \n",
      "    Graphical illustration:\n",
      "    \n",
      "    >>> import matplotlib.pyplot as plt\n",
      "    >>> N = 8\n",
      "    >>> y = np.zeros(N)\n",
      "    >>> x1 = np.linspace(0, 10, N, endpoint=True)\n",
      "    >>> x2 = np.linspace(0, 10, N, endpoint=False)\n",
      "    >>> plt.plot(x1, y, 'o')\n",
      "    [<matplotlib.lines.Line2D object at 0x...>]\n",
      "    >>> plt.plot(x2, y + 0.5, 'o')\n",
      "    [<matplotlib.lines.Line2D object at 0x...>]\n",
      "    >>> plt.ylim([-0.5, 1])\n",
      "    (-0.5, 1)\n",
      "    >>> plt.show()\n",
      "\n"
     ]
    }
   ],
   "source": [
    "help(np.linspace)"
   ]
  },
  {
   "cell_type": "code",
   "execution_count": 90,
   "id": "811c548d-8b45-49f9-8c17-d5dcf8f35bc4",
   "metadata": {},
   "outputs": [
    {
     "name": "stdout",
     "output_type": "stream",
     "text": [
      "2\n"
     ]
    }
   ],
   "source": [
    "a = np.linspace(1, 5, num = 10, retstep = True)\n",
    "print(len(a))"
   ]
  },
  {
   "cell_type": "code",
   "execution_count": 91,
   "id": "e859150e-84df-480d-bff3-6b5d3c33139f",
   "metadata": {},
   "outputs": [
    {
     "name": "stdout",
     "output_type": "stream",
     "text": [
      "(array([1.        , 1.44444444, 1.88888889, 2.33333333, 2.77777778,\n",
      "       3.22222222, 3.66666667, 4.11111111, 4.55555556, 5.        ]), 0.4444444444444444)\n"
     ]
    }
   ],
   "source": [
    "print(a)"
   ]
  },
  {
   "cell_type": "markdown",
   "id": "97b83c60-50ce-4f19-9148-1afcc1281402",
   "metadata": {},
   "source": [
    "### <font color = \"red\"> Logspace\n"
   ]
  },
  {
   "cell_type": "code",
   "execution_count": 93,
   "id": "b28e1ae4-6ebb-42a7-91c8-d9f290deed5d",
   "metadata": {},
   "outputs": [
    {
     "name": "stdout",
     "output_type": "stream",
     "text": [
      "[1.   1.25 1.5  1.75 2.  ]\n"
     ]
    }
   ],
   "source": [
    "print(np.linspace(1,2, num = 5))"
   ]
  },
  {
   "cell_type": "code",
   "execution_count": 95,
   "id": "5d1a6be1-22b5-4618-94f2-f0de3b311132",
   "metadata": {},
   "outputs": [
    {
     "name": "stdout",
     "output_type": "stream",
     "text": [
      "[ 5.          7.47674391 11.18033989 16.71850762 25.        ]\n"
     ]
    }
   ],
   "source": [
    "print(np.logspace(1, 2, num = 5, base = 5))"
   ]
  },
  {
   "cell_type": "markdown",
   "id": "b6dc7d76-acce-4d02-b949-dda84cbb601d",
   "metadata": {},
   "source": [
    "### <font color = \"red\"> Type conversion of List into Array"
   ]
  },
  {
   "cell_type": "code",
   "execution_count": 98,
   "id": "dad4161c-6bec-4607-91eb-4cd6eb5ce419",
   "metadata": {},
   "outputs": [
    {
     "name": "stdout",
     "output_type": "stream",
     "text": [
      "<class 'list'>\n",
      "[1. 2. 3. 4. 5. 6. 7.]\n",
      "<class 'numpy.ndarray'>\n"
     ]
    }
   ],
   "source": [
    "l = [1, 2, 3, 4, 5, 6, 7]\n",
    "print(type(l))\n",
    "b = np.asarray(l, dtype = 'float')\n",
    "print(b)\n",
    "\n",
    "print(type(b))"
   ]
  },
  {
   "cell_type": "markdown",
   "id": "e6f93877-e654-4390-aa52-cc77fea5c419",
   "metadata": {},
   "source": [
    "### <font color = \"red\">Type conversion of Tuple into Array"
   ]
  },
  {
   "cell_type": "code",
   "execution_count": 100,
   "id": "1004b11d-7210-4489-87f3-fcc011692319",
   "metadata": {},
   "outputs": [
    {
     "name": "stdout",
     "output_type": "stream",
     "text": [
      "[1.+0.j 2.+0.j 3.+0.j 4.+0.j]\n",
      "<class 'numpy.ndarray'>\n"
     ]
    }
   ],
   "source": [
    "t = (1,2,3,4)\n",
    "\n",
    "b = np.asarray(t, dtype = 'complex')\n",
    "print(b)\n",
    "print(type(b))"
   ]
  },
  {
   "cell_type": "markdown",
   "id": "af77a968-fe6a-4ab8-8e04-393aaca9f004",
   "metadata": {},
   "source": [
    "### <font color = \"red\"> Copy of array into other Variable"
   ]
  },
  {
   "cell_type": "code",
   "execution_count": 106,
   "id": "286cd9c5-212a-4c06-a770-ecde75c7d04b",
   "metadata": {},
   "outputs": [
    {
     "name": "stdout",
     "output_type": "stream",
     "text": [
      "[[4 4 4]\n",
      " [4 4 4]\n",
      " [4 4 4]]\n"
     ]
    }
   ],
   "source": [
    "a = np.full( shape = (3,3), fill_value = 4)\n",
    "print(a)"
   ]
  },
  {
   "cell_type": "code",
   "execution_count": 107,
   "id": "fa8b2362-7bd0-4674-b469-dbc53787908c",
   "metadata": {},
   "outputs": [
    {
     "name": "stdout",
     "output_type": "stream",
     "text": [
      "[[4 4 4]\n",
      " [4 4 4]\n",
      " [4 4 4]]\n"
     ]
    }
   ],
   "source": [
    "b = np.copy(a) \n",
    "print(b)"
   ]
  },
  {
   "cell_type": "markdown",
   "id": "6a0253a5-7a64-48e9-844e-2f7fabe61a9d",
   "metadata": {},
   "source": [
    "### <font color = \"red\"> Different datatype in Numpy"
   ]
  },
  {
   "cell_type": "code",
   "execution_count": 114,
   "id": "3e8e01ab-11e4-40fb-b0e7-73fc0e2bcac6",
   "metadata": {},
   "outputs": [
    {
     "data": {
      "text/plain": [
       "array([[1, 1, 1],\n",
       "       [1, 1, 1],\n",
       "       [1, 1, 1]], dtype=uint16)"
      ]
     },
     "execution_count": 114,
     "metadata": {},
     "output_type": "execute_result"
    }
   ],
   "source": [
    "#Creating the unsigned integer\n",
    "\n",
    "b = np.ones((3,3), dtype = np.uint16)\n",
    "b"
   ]
  },
  {
   "cell_type": "code",
   "execution_count": 116,
   "id": "e890115c-c358-4d93-ac5b-06aaedc368f4",
   "metadata": {},
   "outputs": [
    {
     "name": "stdout",
     "output_type": "stream",
     "text": [
      "[ True False  True]\n",
      "bool\n"
     ]
    }
   ],
   "source": [
    "#Boolean type Array\n",
    "\n",
    "d = np.array([True, False, True])\n",
    "print(d)\n",
    "print(d.dtype)"
   ]
  },
  {
   "cell_type": "code",
   "execution_count": 131,
   "id": "aeeed941-fd0b-494c-8cd4-a911e89a2ddd",
   "metadata": {},
   "outputs": [
    {
     "name": "stdout",
     "output_type": "stream",
     "text": [
      "[ 1  2  3  4  5  6  7  8  9 10]\n"
     ]
    }
   ],
   "source": [
    "a = np.arange(1, 11)\n",
    "print(a)"
   ]
  },
  {
   "cell_type": "code",
   "execution_count": 121,
   "id": "e4d8fc48-3417-42a9-8da4-375d127c9ad4",
   "metadata": {},
   "outputs": [
    {
     "name": "stdout",
     "output_type": "stream",
     "text": [
      "The value of the index 5 is 5\n"
     ]
    }
   ],
   "source": [
    "print(\"The value of the index 5 is\", a[4])"
   ]
  },
  {
   "cell_type": "code",
   "execution_count": 130,
   "id": "8b330a1f-060f-4faf-9e16-b2c6ca6e8590",
   "metadata": {},
   "outputs": [
    {
     "name": "stdout",
     "output_type": "stream",
     "text": [
      "5\n"
     ]
    }
   ],
   "source": [
    "b = np.array([[1,2,3],[4,5,6]])\n",
    "b\n",
    "print(b[1,1])"
   ]
  },
  {
   "cell_type": "code",
   "execution_count": 134,
   "id": "37e281a3-2175-4184-8b3d-747679c07190",
   "metadata": {},
   "outputs": [
    {
     "name": "stdout",
     "output_type": "stream",
     "text": [
      "[[  1  10   3]\n",
      " [  4   5 100]]\n"
     ]
    }
   ],
   "source": [
    "b[1,2] = 100\n",
    "print(b)"
   ]
  },
  {
   "cell_type": "code",
   "execution_count": null,
   "id": "e22f0edb-5680-4b08-a11a-6120601889c0",
   "metadata": {},
   "outputs": [],
   "source": []
  },
  {
   "cell_type": "code",
   "execution_count": null,
   "id": "67605c32-53d7-4ff2-89d1-67b2822ddd3d",
   "metadata": {},
   "outputs": [],
   "source": []
  },
  {
   "cell_type": "code",
   "execution_count": null,
   "id": "8940c8b5-8ad1-4fe6-9da7-e09e27e808cd",
   "metadata": {},
   "outputs": [],
   "source": []
  },
  {
   "cell_type": "code",
   "execution_count": null,
   "id": "c9909f17-351b-460c-9a69-3afabc6fa376",
   "metadata": {},
   "outputs": [],
   "source": []
  },
  {
   "cell_type": "code",
   "execution_count": null,
   "id": "596a90e6-131e-4d11-9fca-7b2b61e3e9cd",
   "metadata": {},
   "outputs": [],
   "source": []
  },
  {
   "cell_type": "code",
   "execution_count": null,
   "id": "3b6d056c-bb2f-4cea-96ca-90f974f15ebf",
   "metadata": {},
   "outputs": [],
   "source": []
  },
  {
   "cell_type": "code",
   "execution_count": null,
   "id": "eabcfb75-1adf-4304-9377-d85f9753b0ec",
   "metadata": {},
   "outputs": [],
   "source": []
  }
 ],
 "metadata": {
  "kernelspec": {
   "display_name": "Python 3 (ipykernel)",
   "language": "python",
   "name": "python3"
  },
  "language_info": {
   "codemirror_mode": {
    "name": "ipython",
    "version": 3
   },
   "file_extension": ".py",
   "mimetype": "text/x-python",
   "name": "python",
   "nbconvert_exporter": "python",
   "pygments_lexer": "ipython3",
   "version": "3.11.7"
  }
 },
 "nbformat": 4,
 "nbformat_minor": 5
}
