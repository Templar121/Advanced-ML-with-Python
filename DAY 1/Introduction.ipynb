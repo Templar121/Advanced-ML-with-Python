{
 "cells": [
  {
   "cell_type": "markdown",
   "id": "716af037-1e27-4368-8332-54cfa21657a5",
   "metadata": {},
   "source": [
    "#password picker game\n",
    "\n",
    "password picker will enable you to create strong passowrds by combining words, numbers and charracters. when you run the program it will create a new password and show it on the screen. You can ask it to keep craetig new passwords untill you find the one you like."
   ]
  },
  {
   "cell_type": "code",
   "execution_count": 22,
   "id": "86c05cb1-312f-485f-ad8e-c7bfa372f15a",
   "metadata": {},
   "outputs": [],
   "source": [
    "import random\n",
    "\n",
    "\n",
    "adjective = ['sleepy', 'kind', 'nice', 'wet', 'happy', 'proud']\n",
    "noun = ['India', 'Delhi', 'Kolkata', 'Asansol', 'Apple']\n",
    "\n"
   ]
  },
  {
   "cell_type": "code",
   "execution_count": 23,
   "id": "1ba360a1-4003-4947-80e3-ff5eb614a550",
   "metadata": {},
   "outputs": [
    {
     "name": "stdout",
     "output_type": "stream",
     "text": [
      "!\"#$%&'()*+,-./:;<=>?@[\\]^_`{|}~\n"
     ]
    }
   ],
   "source": [
    "import string\n",
    "print(string.punctuation)\n"
   ]
  },
  {
   "cell_type": "code",
   "execution_count": 37,
   "id": "e15fce7f-527a-4041-b049-a3aafb021747",
   "metadata": {},
   "outputs": [
    {
     "name": "stdout",
     "output_type": "stream",
     "text": [
      "Welcome to Password Picker......\n",
      "Your password is  yp58_\n"
     ]
    },
    {
     "name": "stdin",
     "output_type": "stream",
     "text": [
      "Would you like another passowrd ? type y or n: y\n"
     ]
    },
    {
     "name": "stdout",
     "output_type": "stream",
     "text": [
      "Your password is  yp33:\n"
     ]
    },
    {
     "name": "stdin",
     "output_type": "stream",
     "text": [
      "Would you like another passowrd ? type y or n: n\n"
     ]
    }
   ],
   "source": [
    "print(\"Welcome to Password Picker......\")\n",
    "\n",
    "while True:\n",
    "    adjective = random.choice(adjective)\n",
    "    noun = random.choice(noun)\n",
    "    spc_char = random.choice(string.punctuation)\n",
    "    number = random.randrange(0,100)\n",
    "    password=adjective+noun+str(number)+spc_char \n",
    "    print(\"Your password is \" , password)\n",
    "\n",
    "    response = input(\"Would you like another passowrd ? type y or n:\")\n",
    "    if response == 'n':\n",
    "        break\n",
    "                    \n",
    "    "
   ]
  }
 ],
 "metadata": {
  "kernelspec": {
   "display_name": "Python 3 (ipykernel)",
   "language": "python",
   "name": "python3"
  },
  "language_info": {
   "codemirror_mode": {
    "name": "ipython",
    "version": 3
   },
   "file_extension": ".py",
   "mimetype": "text/x-python",
   "name": "python",
   "nbconvert_exporter": "python",
   "pygments_lexer": "ipython3",
   "version": "3.11.7"
  }
 },
 "nbformat": 4,
 "nbformat_minor": 5
}
