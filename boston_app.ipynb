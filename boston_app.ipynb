{
 "cells": [
  {
   "cell_type": "code",
   "execution_count": 11,
   "id": "8482b636-0811-4594-8d45-01d934ac369a",
   "metadata": {},
   "outputs": [],
   "source": [
    "import pickle\n",
    "from flask import Flask, request, render_template\n",
    "import joblib\n"
   ]
  },
  {
   "cell_type": "code",
   "execution_count": 12,
   "id": "6f6d9111-65af-4716-8273-0c236be3e666",
   "metadata": {},
   "outputs": [],
   "source": [
    "app = Flask(__name__)\n",
    "model = joblib.load('model_predict')\n",
    "\n",
    "@app.route('/')\n",
    "def hello(name = None):\n",
    "    return render_template('index.html', name = name)\n",
    "\n",
    "@app.route('/results', methods = ['GET', 'POST'])\n",
    "def get_value():\n",
    "    if request.method == 'POST':\n",
    "        rm = float(request.form.get('rm'))\n",
    "        pt = float(request.form.get('pt'))\n",
    "        lstat = float(request.form.get('lstat'))\n",
    "        predict_value = model.predict([[rm,pt,lstat]])\n",
    "    return render_template('results.html', prediction = predict_value)\n",
    "    "
   ]
  },
  {
   "cell_type": "code",
   "execution_count": null,
   "id": "8c605e2e-ec11-47e3-bbd4-1cef3c941037",
   "metadata": {},
   "outputs": [
    {
     "name": "stdout",
     "output_type": "stream",
     "text": [
      " * Serving Flask app '__main__'\n",
      " * Debug mode: off\n"
     ]
    },
    {
     "name": "stderr",
     "output_type": "stream",
     "text": [
      "WARNING: This is a development server. Do not use it in a production deployment. Use a production WSGI server instead.\n",
      " * Running on http://127.0.0.1:5000\n",
      "Press CTRL+C to quit\n",
      "127.0.0.1 - - [09/Sep/2024 16:11:07] \"GET / HTTP/1.1\" 200 -\n",
      "D:\\Anaconda\\Lib\\site-packages\\sklearn\\base.py:439: UserWarning: X does not have valid feature names, but LinearRegression was fitted with feature names\n",
      "  warnings.warn(\n",
      "127.0.0.1 - - [09/Sep/2024 16:11:18] \"POST /results HTTP/1.1\" 200 -\n"
     ]
    }
   ],
   "source": [
    "if __name__ == \"__main__\":\n",
    "    app.run()\n"
   ]
  },
  {
   "cell_type": "code",
   "execution_count": null,
   "id": "1220b29b-4528-4b4c-9e32-27935e168031",
   "metadata": {},
   "outputs": [],
   "source": []
  }
 ],
 "metadata": {
  "kernelspec": {
   "display_name": "Python 3 (ipykernel)",
   "language": "python",
   "name": "python3"
  },
  "language_info": {
   "codemirror_mode": {
    "name": "ipython",
    "version": 3
   },
   "file_extension": ".py",
   "mimetype": "text/x-python",
   "name": "python",
   "nbconvert_exporter": "python",
   "pygments_lexer": "ipython3",
   "version": "3.11.7"
  }
 },
 "nbformat": 4,
 "nbformat_minor": 5
}
