{
 "cells": [
  {
   "cell_type": "code",
   "execution_count": 1,
   "id": "80b34803-fab9-4952-b8aa-53cd5de06a78",
   "metadata": {},
   "outputs": [],
   "source": [
    "import pandas as pd\n",
    "import numpy as np\n",
    "import matplotlib.pyplot as plt\n",
    "import seaborn as sns\n",
    "import math\n",
    "from statsmodels.tsa import stattools"
   ]
  },
  {
   "cell_type": "markdown",
   "id": "e22a2208-3ea1-4b51-8e9f-04ac9bbfa165",
   "metadata": {},
   "source": [
    "# Generating data in time range"
   ]
  },
  {
   "cell_type": "code",
   "execution_count": 6,
   "id": "163de200-1836-4f3e-a160-91ea34b2652e",
   "metadata": {},
   "outputs": [],
   "source": [
    "df = pd.date_range('2024 Jan 16', periods = 20, freq = 'W')"
   ]
  },
  {
   "cell_type": "code",
   "execution_count": 7,
   "id": "d0a1b5f7-7fce-48ec-9dd4-c11a5e638bca",
   "metadata": {},
   "outputs": [
    {
     "data": {
      "text/plain": [
       "DatetimeIndex(['2024-01-21', '2024-01-28', '2024-02-04', '2024-02-11',\n",
       "               '2024-02-18', '2024-02-25', '2024-03-03', '2024-03-10',\n",
       "               '2024-03-17', '2024-03-24', '2024-03-31', '2024-04-07',\n",
       "               '2024-04-14', '2024-04-21', '2024-04-28', '2024-05-05',\n",
       "               '2024-05-12', '2024-05-19', '2024-05-26', '2024-06-02'],\n",
       "              dtype='datetime64[ns]', freq='W-SUN')"
      ]
     },
     "execution_count": 7,
     "metadata": {},
     "output_type": "execute_result"
    }
   ],
   "source": [
    "df"
   ]
  },
  {
   "cell_type": "code",
   "execution_count": 8,
   "id": "e425a04b-b11e-472d-8033-fd3be5a4afa6",
   "metadata": {},
   "outputs": [
    {
     "data": {
      "text/plain": [
       "(20,)"
      ]
     },
     "execution_count": 8,
     "metadata": {},
     "output_type": "execute_result"
    }
   ],
   "source": [
    "df.shape\n"
   ]
  },
  {
   "cell_type": "code",
   "execution_count": null,
   "id": "26f15526-ce46-48b8-abac-70f2504c8800",
   "metadata": {},
   "outputs": [],
   "source": []
  },
  {
   "cell_type": "code",
   "execution_count": null,
   "id": "d59e2212-7f72-4fc8-91c9-cf74c1ad5f7f",
   "metadata": {},
   "outputs": [],
   "source": []
  }
 ],
 "metadata": {
  "kernelspec": {
   "display_name": "Python 3 (ipykernel)",
   "language": "python",
   "name": "python3"
  },
  "language_info": {
   "codemirror_mode": {
    "name": "ipython",
    "version": 3
   },
   "file_extension": ".py",
   "mimetype": "text/x-python",
   "name": "python",
   "nbconvert_exporter": "python",
   "pygments_lexer": "ipython3",
   "version": "3.11.7"
  }
 },
 "nbformat": 4,
 "nbformat_minor": 5
}
