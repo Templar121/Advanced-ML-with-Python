{
 "cells": [
  {
   "cell_type": "markdown",
   "id": "73f4a8ad-ef45-42ac-a483-6108422efd19",
   "metadata": {},
   "source": [
    "# Notes as per NPTEL Lectures "
   ]
  },
  {
   "cell_type": "markdown",
   "id": "d50d3c74-15f7-43ef-a3b0-b8b95311aeb3",
   "metadata": {},
   "source": [
    "### What is Machine Learning?\n",
    "A Computer program is said to learn from Experience E over some Task T with some Performance measure P, if its performance P improves over the Task T improves with some Experience E. "
   ]
  },
  {
   "cell_type": "markdown",
   "id": "c7692c9c-83e1-4cf4-9206-e6e03790f842",
   "metadata": {},
   "source": [
    "### What are the Different types of Machine Learning ?\n",
    "1. Supervised ML.\n",
    "2. Un-supervised Ml.\n",
    "3. Semi-supervised Ml.\n",
    "4. Reinforcement Learning\n"
   ]
  },
  {
   "cell_type": "markdown",
   "id": "6fbdfd78-1568-4f4c-b530-5348deb636b0",
   "metadata": {},
   "source": [
    "### Linear Regression , Logistic Regression, Polynomial Regression, Polynomial Regression, Lasso Regression, Ridge Regression."
   ]
  },
  {
   "cell_type": "markdown",
   "id": "ab6d2139-2242-4d13-ba75-b2a132de6072",
   "metadata": {},
   "source": [
    "### Clustering, Dimensionality Reduction, Association Rule, Anomaly Detection."
   ]
  },
  {
   "cell_type": "markdown",
   "id": "44021c3d-f5eb-49ad-bdbf-5b4a527bd440",
   "metadata": {},
   "source": [
    "### Reward, Punishment."
   ]
  },
  {
   "cell_type": "code",
   "execution_count": null,
   "id": "631db0d4-1ade-4459-bba3-28fcd13fb45a",
   "metadata": {},
   "outputs": [],
   "source": []
  },
  {
   "cell_type": "code",
   "execution_count": null,
   "id": "18a10c44-ed73-4776-9a88-226fa492cfbc",
   "metadata": {},
   "outputs": [],
   "source": []
  },
  {
   "cell_type": "code",
   "execution_count": null,
   "id": "0f533620-8bbd-45a6-a280-e370726b5440",
   "metadata": {},
   "outputs": [],
   "source": []
  }
 ],
 "metadata": {
  "kernelspec": {
   "display_name": "Python 3 (ipykernel)",
   "language": "python",
   "name": "python3"
  },
  "language_info": {
   "codemirror_mode": {
    "name": "ipython",
    "version": 3
   },
   "file_extension": ".py",
   "mimetype": "text/x-python",
   "name": "python",
   "nbconvert_exporter": "python",
   "pygments_lexer": "ipython3",
   "version": "3.11.7"
  }
 },
 "nbformat": 4,
 "nbformat_minor": 5
}
